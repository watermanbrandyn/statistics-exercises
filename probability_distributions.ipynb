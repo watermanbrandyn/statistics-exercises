{
 "cells": [
  {
   "cell_type": "markdown",
   "id": "e0646ad6",
   "metadata": {},
   "source": [
    "1. A bank found that the average number of cars waiting during the noon hour at a drive-up window follows a Poisson distribution with a mean of 2 cars. Make a chart of this distribution and answer these questions concerning the probability of cars waiting at the drive-up window.\n",
    "\n",
    "What is the probability that no cars drive up in the noon hour?\n",
    "What is the probability that 3 or more cars come through the drive through?\n",
    "How likely is it that the drive through gets at least 1 car?"
   ]
  },
  {
   "cell_type": "code",
   "execution_count": 1,
   "id": "8538d876",
   "metadata": {},
   "outputs": [],
   "source": [
    "import matplotlib.pyplot as plt\n",
    "import numpy as np\n",
    "from scipy import stats\n",
    "import pandas as pd\n",
    "np.random.seed(123)"
   ]
  },
  {
   "cell_type": "code",
   "execution_count": 2,
   "id": "e78687a2",
   "metadata": {},
   "outputs": [
    {
     "data": {
      "text/plain": [
       "Text(0.5, 1.0, 'Cars During Noon')"
      ]
     },
     "execution_count": 2,
     "metadata": {},
     "output_type": "execute_result"
    },
    {
     "data": {
      "image/png": "[encoded data removed]",
      "text/plain": [
       "<Figure size 432x288 with 1 Axes>"
      ]
     },
     "metadata": {
      "needs_background": "light"
     },
     "output_type": "display_data"
    }
   ],
   "source": [
    "cars_per_noon = 2\n",
    "pd.Series(stats.poisson(cars_per_noon).rvs(10_000)).value_counts().sort_index().plot.bar(width=1, ec='black')\n",
    "plt.title('Cars During Noon')"
   ]
  },
  {
   "cell_type": "code",
   "execution_count": 3,
   "id": "72c26cfc",
   "metadata": {},
   "outputs": [
    {
     "data": {
      "text/plain": [
       "0.1352"
      ]
     },
     "execution_count": 3,
     "metadata": {},
     "output_type": "execute_result"
    }
   ],
   "source": [
    "cars = np.random.poisson(cars_per_noon, size = 10_000)\n",
    "no_cars = (cars == 0).mean()\n",
    "no_cars"
   ]
  },
  {
   "cell_type": "code",
   "execution_count": 4,
   "id": "67e692c1",
   "metadata": {},
   "outputs": [
    {
     "data": {
      "text/plain": [
       "0.3261"
      ]
     },
     "execution_count": 4,
     "metadata": {},
     "output_type": "execute_result"
    }
   ],
   "source": [
    "three__or_more = cars >= 3\n",
    "three__or_more.mean()"
   ]
  },
  {
   "cell_type": "code",
   "execution_count": 5,
   "id": "8198b16f",
   "metadata": {},
   "outputs": [
    {
     "data": {
      "text/plain": [
       "0.8648"
      ]
     },
     "execution_count": 5,
     "metadata": {},
     "output_type": "execute_result"
    }
   ],
   "source": [
    "at_least_one = cars >= 1\n",
    "at_least_one.mean()"
   ]
  },
  {
   "cell_type": "code",
   "execution_count": 6,
   "id": "1a574753",
   "metadata": {},
   "outputs": [
    {
     "data": {
      "text/plain": [
       "0.1353352832366127"
      ]
     },
     "execution_count": 6,
     "metadata": {},
     "output_type": "execute_result"
    }
   ],
   "source": [
    "stats.poisson(2).pmf(0)"
   ]
  },
  {
   "cell_type": "code",
   "execution_count": 7,
   "id": "2c65c605",
   "metadata": {},
   "outputs": [
    {
     "data": {
      "text/plain": [
       "0.32332358381693654"
      ]
     },
     "execution_count": 7,
     "metadata": {},
     "output_type": "execute_result"
    }
   ],
   "source": [
    "stats.poisson(2).sf(2)"
   ]
  },
  {
   "cell_type": "code",
   "execution_count": 8,
   "id": "98772436",
   "metadata": {},
   "outputs": [
    {
     "data": {
      "text/plain": [
       "0.8646647167633873"
      ]
     },
     "execution_count": 8,
     "metadata": {},
     "output_type": "execute_result"
    }
   ],
   "source": [
    "stats.poisson(2).sf(0)"
   ]
  },
  {
   "cell_type": "markdown",
   "id": "58651919",
   "metadata": {},
   "source": [
    "2. Grades of State University graduates are normally distributed with a mean of 3.0 and a standard deviation of .3. Calculate the following:\n",
    "\n",
    "What grade point average is required to be in the top 5% of the graduating class?\n",
    "What GPA constitutes the bottom 15% of the class?\n",
    "An eccentric alumnus left scholarship money for students in the third decile from the bottom of their class. Determine the range of the third decile. Would a student with a 2.8 grade point average qualify for this scholarship?\n",
    "If I have a GPA of 3.5, what percentile am I in?"
   ]
  },
  {
   "cell_type": "code",
   "execution_count": 9,
   "id": "eca84d44",
   "metadata": {},
   "outputs": [
    {
     "data": {
      "text/plain": [
       "3.4934560880854417"
      ]
     },
     "execution_count": 9,
     "metadata": {},
     "output_type": "execute_result"
    }
   ],
   "source": [
    "grades = stats.norm(3, .3)\n",
    "grades.isf(.05) #top 5%\n",
    "grades.ppf(.95)"
   ]
  },
  {
   "cell_type": "code",
   "execution_count": 10,
   "id": "d20e4be5",
   "metadata": {},
   "outputs": [
    {
     "data": {
      "text/plain": [
       "2.689069983151863"
      ]
     },
     "execution_count": 10,
     "metadata": {},
     "output_type": "execute_result"
    }
   ],
   "source": [
    "grades.ppf(.15) #bottom 15%"
   ]
  },
  {
   "cell_type": "code",
   "execution_count": 11,
   "id": "98c04b3f",
   "metadata": {},
   "outputs": [
    {
     "data": {
      "text/plain": [
       "2.842679846187588"
      ]
     },
     "execution_count": 11,
     "metadata": {},
     "output_type": "execute_result"
    }
   ],
   "source": [
    "grades.ppf(.3) #top of 3rd decile"
   ]
  },
  {
   "cell_type": "code",
   "execution_count": 12,
   "id": "630bb0da",
   "metadata": {},
   "outputs": [
    {
     "data": {
      "text/plain": [
       "2.7475136299281258"
      ]
     },
     "execution_count": 12,
     "metadata": {},
     "output_type": "execute_result"
    }
   ],
   "source": [
    "grades.isf(.8) #bottom of 3rd decile\n",
    "# 2.8 GPA would qualify for the scholarship"
   ]
  },
  {
   "cell_type": "code",
   "execution_count": 13,
   "id": "8b6d27bb",
   "metadata": {},
   "outputs": [
    {
     "data": {
      "text/plain": [
       "0.9522096477271853"
      ]
     },
     "execution_count": 13,
     "metadata": {},
     "output_type": "execute_result"
    }
   ],
   "source": [
    "grades.cdf(3.5)"
   ]
  },
  {
   "cell_type": "code",
   "execution_count": 14,
   "id": "660af631",
   "metadata": {},
   "outputs": [],
   "source": [
    "n_trials = 10_000\n",
    "gpa = pd.DataFrame(np.random.normal(3, .3, n_trials))"
   ]
  },
  {
   "cell_type": "code",
   "execution_count": 15,
   "id": "0146df7d",
   "metadata": {},
   "outputs": [
    {
     "data": {
      "text/plain": [
       "3.4907792249246947"
      ]
     },
     "execution_count": 15,
     "metadata": {},
     "output_type": "execute_result"
    }
   ],
   "source": [
    "np.percentile(gpa, 95)"
   ]
  },
  {
   "cell_type": "code",
   "execution_count": 16,
   "id": "1ff2b9e9",
   "metadata": {},
   "outputs": [
    {
     "data": {
      "text/plain": [
       "2.6827098893709644"
      ]
     },
     "execution_count": 16,
     "metadata": {},
     "output_type": "execute_result"
    }
   ],
   "source": [
    "np.percentile(gpa, 15)"
   ]
  },
  {
   "cell_type": "code",
   "execution_count": 17,
   "id": "f71803c2",
   "metadata": {},
   "outputs": [
    {
     "data": {
      "text/plain": [
       "2.7437461558828815"
      ]
     },
     "execution_count": 17,
     "metadata": {},
     "output_type": "execute_result"
    }
   ],
   "source": [
    "np.percentile(gpa, 20)"
   ]
  },
  {
   "cell_type": "code",
   "execution_count": 18,
   "id": "be5b3312",
   "metadata": {},
   "outputs": [
    {
     "data": {
      "text/plain": [
       "2.8439750051137267"
      ]
     },
     "execution_count": 18,
     "metadata": {},
     "output_type": "execute_result"
    }
   ],
   "source": [
    "np.percentile(gpa, 30)"
   ]
  },
  {
   "cell_type": "code",
   "execution_count": 19,
   "id": "4eb736b8",
   "metadata": {},
   "outputs": [
    {
     "data": {
      "text/plain": [
       "0    0.9534\n",
       "dtype: float64"
      ]
     },
     "execution_count": 19,
     "metadata": {},
     "output_type": "execute_result"
    }
   ],
   "source": [
    "gpa_35 = gpa > 3.5\n",
    "1 - gpa_35.mean()"
   ]
  },
  {
   "cell_type": "markdown",
   "id": "481a8918",
   "metadata": {},
   "source": [
    "3. A marketing website has an average click-through rate of 2%. One day they observe 4326 visitors and 97 click-throughs. How likely is it that this many people or more click through?"
   ]
  },
  {
   "cell_type": "code",
   "execution_count": 20,
   "id": "05df3062",
   "metadata": {},
   "outputs": [
    {
     "data": {
      "text/plain": [
       "0.13975823631416445"
      ]
     },
     "execution_count": 20,
     "metadata": {},
     "output_type": "execute_result"
    }
   ],
   "source": [
    "click = .02\n",
    "n_trials = 4326\n",
    "stats.binom(n_trials, click).sf(96)"
   ]
  },
  {
   "cell_type": "code",
   "execution_count": 21,
   "id": "620cab34",
   "metadata": {},
   "outputs": [
    {
     "data": {
      "text/plain": [
       "0.1371"
      ]
     },
     "execution_count": 21,
     "metadata": {},
     "output_type": "execute_result"
    }
   ],
   "source": [
    "trials = 10_000\n",
    "today = 4326\n",
    "click_thru = np.random.choice([0, 1], size = trials * today, p=[.98, .02]).reshape(trials, today)\n",
    "did_click = click_thru.sum(axis=1) >= 97\n",
    "did_click.mean()"
   ]
  },
  {
   "cell_type": "markdown",
   "id": "3e6455eb",
   "metadata": {},
   "source": [
    "4. You are working on some statistics homework consisting of 100 questions where all of the answers are a probability rounded to the hundreths place. Looking to save time, you put down random probabilities as the answer to each question.\n",
    "\n",
    "What is the probability that at least one of your first 60 answers is correct?"
   ]
  },
  {
   "cell_type": "code",
   "execution_count": 22,
   "id": "aedf8e6c",
   "metadata": {},
   "outputs": [
    {
     "data": {
      "text/plain": [
       "0.45284335760923855"
      ]
     },
     "execution_count": 22,
     "metadata": {},
     "output_type": "execute_result"
    }
   ],
   "source": [
    "odds_of_correct = .01\n",
    "stats.binom(60, odds_of_correct).sf(0)"
   ]
  },
  {
   "cell_type": "code",
   "execution_count": 23,
   "id": "d63f2dd4",
   "metadata": {},
   "outputs": [
    {
     "data": {
      "text/plain": [
       "0.4527"
      ]
     },
     "execution_count": 23,
     "metadata": {},
     "output_type": "execute_result"
    }
   ],
   "source": [
    "trials = 10_000\n",
    "questions = 60\n",
    "answers = np.random.choice([0,1], size = trials * questions, p=[.99, .01]).reshape(trials, questions)\n",
    "correct = answers.sum(axis=1) >= 1\n",
    "correct.mean()"
   ]
  },
  {
   "cell_type": "markdown",
   "id": "77cf5a6d",
   "metadata": {},
   "source": [
    "5. The codeup staff tends to get upset when the student break area is not cleaned up. Suppose that \n",
    "there's a 3% chance that any one student cleans the break area when they visit it, and, on any given day, \n",
    "about 90% of the 3 active cohorts of 22 students visit the break area. How likely is it that the break area \n",
    "gets cleaned up each day? How likely is it that it goes two days without getting cleaned up? All week?"
   ]
  },
  {
   "cell_type": "code",
   "execution_count": 24,
   "id": "59ba9390",
   "metadata": {},
   "outputs": [
    {
     "data": {
      "text/plain": [
       "0.8342199288437352"
      ]
     },
     "execution_count": 24,
     "metadata": {},
     "output_type": "execute_result"
    }
   ],
   "source": [
    "clean_chance_per_student = .03\n",
    "visitors = round(.9 * 3 * 22)\n",
    "days = 1\n",
    "stats.binom(visitors * days, clean_chance_per_student).sf(0)"
   ]
  },
  {
   "cell_type": "code",
   "execution_count": 25,
   "id": "d5590b87",
   "metadata": {},
   "outputs": [
    {
     "data": {
      "text/plain": [
       "0.02748303199257618"
      ]
     },
     "execution_count": 25,
     "metadata": {},
     "output_type": "execute_result"
    }
   ],
   "source": [
    "days = 2\n",
    "1 - stats.binom(visitors * days, clean_chance_per_student).sf(0)"
   ]
  },
  {
   "cell_type": "code",
   "execution_count": 26,
   "id": "8970dfea",
   "metadata": {},
   "outputs": [
    {
     "data": {
      "text/plain": [
       "3.4413294569546338e-06"
      ]
     },
     "execution_count": 26,
     "metadata": {},
     "output_type": "execute_result"
    }
   ],
   "source": [
    "days = 7 \n",
    "1 - stats.binom(visitors * days, clean_chance_per_student).sf(0)"
   ]
  },
  {
   "cell_type": "code",
   "execution_count": 27,
   "id": "f15818f4",
   "metadata": {},
   "outputs": [
    {
     "data": {
      "text/plain": [
       "0.8279"
      ]
     },
     "execution_count": 27,
     "metadata": {},
     "output_type": "execute_result"
    }
   ],
   "source": [
    "visitors = round(visitors)\n",
    "trials = 10_000\n",
    "possible_cleans = np.random.choice([0,1], size = trials * visitors, p = [.97, .03]).reshape(trials, visitors)\n",
    "actually_cleaned = possible_cleans.sum(axis=1) >= 1\n",
    "actually_cleaned.mean()"
   ]
  },
  {
   "cell_type": "code",
   "execution_count": 28,
   "id": "4964eddb",
   "metadata": {},
   "outputs": [
    {
     "data": {
      "text/plain": [
       "0.025399999999999978"
      ]
     },
     "execution_count": 28,
     "metadata": {},
     "output_type": "execute_result"
    }
   ],
   "source": [
    "num_ppl_two = visitors * 2\n",
    "two_days_poss = np.random.choice([0,1], size = trials * num_ppl_two, p = [.97, .03]).reshape(trials, num_ppl_two)\n",
    "actually_cleaned = two_days_poss.sum(axis=1) >= 1\n",
    "1 - actually_cleaned.mean()"
   ]
  },
  {
   "cell_type": "code",
   "execution_count": 29,
   "id": "b71f1e1a",
   "metadata": {},
   "outputs": [
    {
     "data": {
      "text/plain": [
       "0.0"
      ]
     },
     "execution_count": 29,
     "metadata": {},
     "output_type": "execute_result"
    }
   ],
   "source": [
    "num_ppl_seven = visitors * 7\n",
    "seven_days_poss = np.random.choice([0,1], size = trials * num_ppl_seven, p = [.97, .03]).reshape(trials, num_ppl_seven)\n",
    "actually_claned = seven_days_poss.sum(axis=1) >= 1\n",
    "1 - actually_claned.mean()"
   ]
  },
  {
   "cell_type": "markdown",
   "id": "673b16fa",
   "metadata": {},
   "source": [
    "6. You want to get lunch at La Panaderia, but notice that the line is usually very long at lunchtime. After several weeks of careful observation, you notice that the average number of people in line when your lunch break starts is normally distributed with a mean of 15 and standard deviation of 3. If it takes 2 minutes for each person to order, and 10 minutes from ordering to getting your food, what is the likelihood that you have at least 15 minutes left to eat your food before you have to go back to class? Assume you have one hour for lunch, and ignore travel time to and from La Panaderia."
   ]
  },
  {
   "cell_type": "code",
   "execution_count": 30,
   "id": "f961d9ce",
   "metadata": {},
   "outputs": [
    {
     "data": {
      "text/plain": [
       "0    0.69202\n",
       "dtype: float64"
      ]
     },
     "execution_count": 30,
     "metadata": {},
     "output_type": "execute_result"
    }
   ],
   "source": [
    "trials = 100_000\n",
    "m_people = 15\n",
    "std_people = 3\n",
    "min_per_order = 2\n",
    "wait = 10\n",
    "total_time = 60\n",
    "\n",
    "line_time = pd.DataFrame(np.random.normal(m_people,std_people , trials))\n",
    "line_time = line_time * min_per_order + 2\n",
    "line_time_works = (line_time + wait) < (total_time - 15)\n",
    "line_time_works.mean()"
   ]
  },
  {
   "cell_type": "code",
   "execution_count": 31,
   "id": "be5d4d28",
   "metadata": {},
   "outputs": [
    {
     "data": {
      "text/plain": [
       "0.6305586598182363"
      ]
     },
     "execution_count": 31,
     "metadata": {},
     "output_type": "execute_result"
    }
   ],
   "source": [
    "1 - stats.norm(15, 3).sf(16)"
   ]
  },
  {
   "cell_type": "code",
   "execution_count": 32,
   "id": "374863cd",
   "metadata": {},
   "outputs": [
    {
     "data": {
      "text/plain": [
       "0.6305586598182363"
      ]
     },
     "execution_count": 32,
     "metadata": {},
     "output_type": "execute_result"
    }
   ],
   "source": [
    "stats.norm(15, 3).cdf(16)"
   ]
  },
  {
   "cell_type": "markdown",
   "id": "0d118378",
   "metadata": {},
   "source": [
    "7. Connect to the employees database and find the average salary of current employees, along with the standard deviation. For the following questions, calculate the answer based on modeling the employees salaries with a normal distribution defined by the calculated mean and standard deviation then compare this answer to the actual values present in the salaries dataset.\n",
    "\n",
    "What percent of employees earn less than 60,000?\n",
    "What percent of employees earn more than 95,000?\n",
    "What percent of employees earn between 65,000 and 80,000?\n",
    "What do the top 5% of employees make?"
   ]
  },
  {
   "cell_type": "code",
   "execution_count": 33,
   "id": "c360c3d5",
   "metadata": {},
   "outputs": [],
   "source": [
    "from env import host, username, password\n",
    "from env import get_db_url\n",
    "e_url = get_db_url('employees')"
   ]
  },
  {
   "cell_type": "code",
   "execution_count": 41,
   "id": "9a52f81d",
   "metadata": {},
   "outputs": [],
   "source": [
    "salaries = pd.read_sql('SELECT * FROM salaries WHERE to_date > NOW()', e_url)\n",
    "#salaries2 = pd.read_sql('SELECT * FROM salaries', e_url)\n",
    "# curr_salary = salaries2.to_date == '9999-01-01'\n",
    "#pd.to_datetime(\"now\") - pandas 'now' time\n",
    "# salaries2 = salaries2[curr_salary]"
   ]
  },
  {
   "cell_type": "code",
   "execution_count": 40,
   "id": "e8782f5f",
   "metadata": {},
   "outputs": [
    {
     "data": {
      "text/html": [
       "<div>\n",
       "<style scoped>\n",
       "    .dataframe tbody tr th:only-of-type {\n",
       "        vertical-align: middle;\n",
       "    }\n",
       "\n",
       "    .dataframe tbody tr th {\n",
       "        vertical-align: top;\n",
       "    }\n",
       "\n",
       "    .dataframe thead th {\n",
       "        text-align: right;\n",
       "    }\n",
       "</style>\n",
       "<table border=\"1\" class=\"dataframe\">\n",
       "  <thead>\n",
       "    <tr style=\"text-align: right;\">\n",
       "      <th></th>\n",
       "      <th>emp_no</th>\n",
       "      <th>salary</th>\n",
       "      <th>from_date</th>\n",
       "      <th>to_date</th>\n",
       "    </tr>\n",
       "  </thead>\n",
       "  <tbody>\n",
       "    <tr>\n",
       "      <th>103115</th>\n",
       "      <td>20869</td>\n",
       "      <td>40000</td>\n",
       "      <td>1985-02-17</td>\n",
       "      <td>1985-03-01</td>\n",
       "    </tr>\n",
       "    <tr>\n",
       "      <th>2606768</th>\n",
       "      <td>474918</td>\n",
       "      <td>40000</td>\n",
       "      <td>1985-02-10</td>\n",
       "      <td>1985-03-11</td>\n",
       "    </tr>\n",
       "    <tr>\n",
       "      <th>2221240</th>\n",
       "      <td>434232</td>\n",
       "      <td>51991</td>\n",
       "      <td>1985-02-26</td>\n",
       "      <td>1985-03-20</td>\n",
       "    </tr>\n",
       "    <tr>\n",
       "      <th>228558</th>\n",
       "      <td>34059</td>\n",
       "      <td>54776</td>\n",
       "      <td>1985-02-10</td>\n",
       "      <td>1985-03-23</td>\n",
       "    </tr>\n",
       "    <tr>\n",
       "      <th>1781269</th>\n",
       "      <td>287732</td>\n",
       "      <td>40000</td>\n",
       "      <td>1985-04-14</td>\n",
       "      <td>1985-04-17</td>\n",
       "    </tr>\n",
       "    <tr>\n",
       "      <th>...</th>\n",
       "      <td>...</td>\n",
       "      <td>...</td>\n",
       "      <td>...</td>\n",
       "      <td>...</td>\n",
       "    </tr>\n",
       "    <tr>\n",
       "      <th>1038276</th>\n",
       "      <td>209215</td>\n",
       "      <td>71876</td>\n",
       "      <td>2001-11-03</td>\n",
       "      <td>9999-01-01</td>\n",
       "    </tr>\n",
       "    <tr>\n",
       "      <th>2676039</th>\n",
       "      <td>482250</td>\n",
       "      <td>90054</td>\n",
       "      <td>2001-11-18</td>\n",
       "      <td>9999-01-01</td>\n",
       "    </tr>\n",
       "    <tr>\n",
       "      <th>1038293</th>\n",
       "      <td>209216</td>\n",
       "      <td>75904</td>\n",
       "      <td>2002-07-17</td>\n",
       "      <td>9999-01-01</td>\n",
       "    </tr>\n",
       "    <tr>\n",
       "      <th>2368859</th>\n",
       "      <td>449734</td>\n",
       "      <td>79444</td>\n",
       "      <td>2002-07-14</td>\n",
       "      <td>9999-01-01</td>\n",
       "    </tr>\n",
       "    <tr>\n",
       "      <th>2844046</th>\n",
       "      <td>499999</td>\n",
       "      <td>77303</td>\n",
       "      <td>2001-11-29</td>\n",
       "      <td>9999-01-01</td>\n",
       "    </tr>\n",
       "  </tbody>\n",
       "</table>\n",
       "<p>2844047 rows × 4 columns</p>\n",
       "</div>"
      ],
      "text/plain": [
       "         emp_no  salary   from_date     to_date\n",
       "103115    20869   40000  1985-02-17  1985-03-01\n",
       "2606768  474918   40000  1985-02-10  1985-03-11\n",
       "2221240  434232   51991  1985-02-26  1985-03-20\n",
       "228558    34059   54776  1985-02-10  1985-03-23\n",
       "1781269  287732   40000  1985-04-14  1985-04-17\n",
       "...         ...     ...         ...         ...\n",
       "1038276  209215   71876  2001-11-03  9999-01-01\n",
       "2676039  482250   90054  2001-11-18  9999-01-01\n",
       "1038293  209216   75904  2002-07-17  9999-01-01\n",
       "2368859  449734   79444  2002-07-14  9999-01-01\n",
       "2844046  499999   77303  2001-11-29  9999-01-01\n",
       "\n",
       "[2844047 rows x 4 columns]"
      ]
     },
     "execution_count": 40,
     "metadata": {},
     "output_type": "execute_result"
    }
   ],
   "source": [
    "#salaries2.sort_values('to_date')"
   ]
  },
  {
   "cell_type": "code",
   "execution_count": 168,
   "id": "553f6049",
   "metadata": {},
   "outputs": [],
   "source": [
    "avg_sal = salaries.salary.mean()"
   ]
  },
  {
   "cell_type": "code",
   "execution_count": 169,
   "id": "82c4d973",
   "metadata": {},
   "outputs": [],
   "source": [
    "std_sal = salaries.salary.std()"
   ]
  },
  {
   "cell_type": "code",
   "execution_count": 173,
   "id": "08734789",
   "metadata": {},
   "outputs": [
    {
     "data": {
      "text/plain": [
       "0.24385742480214423"
      ]
     },
     "execution_count": 173,
     "metadata": {},
     "output_type": "execute_result"
    }
   ],
   "source": [
    "stats.norm(avg_sal, std_sal).cdf(60_000)"
   ]
  },
  {
   "cell_type": "code",
   "execution_count": 174,
   "id": "2dba4af9",
   "metadata": {},
   "outputs": [
    {
     "data": {
      "text/plain": [
       "0.09208819199804053"
      ]
     },
     "execution_count": 174,
     "metadata": {},
     "output_type": "execute_result"
    }
   ],
   "source": [
    "stats.norm(avg_sal, std_sal).sf(95_000)"
   ]
  },
  {
   "cell_type": "code",
   "execution_count": 178,
   "id": "6168ed32",
   "metadata": {},
   "outputs": [
    {
     "data": {
      "text/plain": [
       "0.33508179968418816"
      ]
     },
     "execution_count": 178,
     "metadata": {},
     "output_type": "execute_result"
    }
   ],
   "source": [
    "stats.norm(avg_sal, std_sal).sf(64_999) - stats.norm(avg_sal, std_sal).sf(80_000)"
   ]
  },
  {
   "cell_type": "code",
   "execution_count": 180,
   "id": "bc498a0d",
   "metadata": {},
   "outputs": [
    {
     "data": {
      "text/plain": [
       "100484.64454102777"
      ]
     },
     "execution_count": 180,
     "metadata": {},
     "output_type": "execute_result"
    }
   ],
   "source": [
    "stats.norm(avg_sal, std_sal).isf(.05)"
   ]
  },
  {
   "cell_type": "code",
   "execution_count": 186,
   "id": "63082fe4",
   "metadata": {},
   "outputs": [
    {
     "data": {
      "text/plain": [
       "emp_no       0.270573\n",
       "salary       0.270573\n",
       "from_date    0.270573\n",
       "to_date      0.270573\n",
       "dtype: float64"
      ]
     },
     "execution_count": 186,
     "metadata": {},
     "output_type": "execute_result"
    }
   ],
   "source": [
    "#below 60k\n",
    "num_sal = salaries.count()\n",
    "(salaries.salary < 60000).sum() / num_sal"
   ]
  },
  {
   "cell_type": "code",
   "execution_count": 187,
   "id": "ec109d20",
   "metadata": {},
   "outputs": [
    {
     "data": {
      "text/plain": [
       "emp_no       0.108627\n",
       "salary       0.108627\n",
       "from_date    0.108627\n",
       "to_date      0.108627\n",
       "dtype: float64"
      ]
     },
     "execution_count": 187,
     "metadata": {},
     "output_type": "execute_result"
    }
   ],
   "source": [
    "#more than 95k\n",
    "(salaries.salary > 95000).sum() /num_sal"
   ]
  },
  {
   "cell_type": "code",
   "execution_count": 188,
   "id": "1dfbf209",
   "metadata": {},
   "outputs": [
    {
     "data": {
      "text/plain": [
       "emp_no       0.325157\n",
       "salary       0.325157\n",
       "from_date    0.325157\n",
       "to_date      0.325157\n",
       "dtype: float64"
      ]
     },
     "execution_count": 188,
     "metadata": {},
     "output_type": "execute_result"
    }
   ],
   "source": [
    "#between 65k and 80k\n",
    "((salaries.salary > 64_999) & (salaries.salary < 80_001)).sum() / num_sal"
   ]
  },
  {
   "cell_type": "code",
   "execution_count": 182,
   "id": "cbc16dee",
   "metadata": {},
   "outputs": [
    {
     "data": {
      "text/plain": [
       "104225.84999999998"
      ]
     },
     "execution_count": 182,
     "metadata": {},
     "output_type": "execute_result"
    }
   ],
   "source": [
    "np.percentile(salaries.salary, 95)"
   ]
  }
 ],
 "metadata": {
  "kernelspec": {
   "display_name": "Python 3.9.7 64-bit ('base': conda)",
   "language": "python",
   "name": "python397jvsc74a57bd038cca0c38332a56087b24af0bc80247f4fced29cb4f7f437d91dc159adec9c4e"
  },
  "language_info": {
   "codemirror_mode": {
    "name": "ipython",
    "version": 3
   },
   "file_extension": ".py",
   "mimetype": "text/x-python",
   "name": "python",
   "nbconvert_exporter": "python",
   "pygments_lexer": "ipython3",
   "version": "3.9.7"
  }
 },
 "nbformat": 4,
 "nbformat_minor": 5
}
