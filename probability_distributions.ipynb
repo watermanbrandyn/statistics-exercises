{
 "cells": [
  {
   "cell_type": "markdown",
   "id": "e0646ad6",
   "metadata": {},
   "source": [
    "1. A bank found that the average number of cars waiting during the noon hour at a drive-up window follows a Poisson distribution with a mean of 2 cars. Make a chart of this distribution and answer these questions concerning the probability of cars waiting at the drive-up window.\n",
    "\n",
    "What is the probability that no cars drive up in the noon hour?\n",
    "What is the probability that 3 or more cars come through the drive through?\n",
    "How likely is it that the drive through gets at least 1 car?"
   ]
  },
  {
   "cell_type": "code",
   "execution_count": 3,
   "id": "8538d876",
   "metadata": {},
   "outputs": [],
   "source": [
    "import matplotlib.pyplot as plt\n",
    "import numpy as np\n",
    "from scipy import stats\n",
    "import pandas as pd\n",
    "np.random.seed(123)"
   ]
  },
  {
   "cell_type": "code",
   "execution_count": 24,
   "id": "e78687a2",
   "metadata": {},
   "outputs": [
    {
     "data": {
      "image/png": "[encoded data removed]",
      "text/plain": [
       "<Figure size 432x288 with 1 Axes>"
      ]
     },
     "metadata": {
      "needs_background": "light"
     },
     "output_type": "display_data"
    }
   ],
   "source": [
    "cars_per_noon = 2\n",
    "pd.Series(stats.poisson(cars_per_noon).rvs(10_000)).value_counts().sort_index().plot.bar(width=1, ec='black')\n",
    "plt.title('Cars During Noon')"
   ]
  },
  {
   "cell_type": "code",
   "execution_count": 26,
   "id": "2fb3c533",
   "metadata": {},
   "outputs": [
    {
     "data": {
      "text/plain": [
       "0.1365"
      ]
     },
     "execution_count": 26,
     "metadata": {},
     "output_type": "execute_result"
    }
   ],
   "source": [
    "cars = np.random.poisson(cars_per_noon, size = 10_000)\n",
    "no_cars = (cars == 0).mean()\n",
    "no_cars"
   ]
  },
  {
   "cell_type": "code",
   "execution_count": 28,
   "id": "e7b276ea",
   "metadata": {},
   "outputs": [
    {
     "data": {
      "text/plain": [
       "0.3143"
      ]
     },
     "execution_count": 28,
     "metadata": {},
     "output_type": "execute_result"
    }
   ],
   "source": [
    "three__or_more = cars >= 3\n",
    "three__or_more.mean()"
   ]
  },
  {
   "cell_type": "code",
   "execution_count": 29,
   "id": "f506a979",
   "metadata": {},
   "outputs": [
    {
     "data": {
      "text/plain": [
       "0.8635"
      ]
     },
     "execution_count": 29,
     "metadata": {},
     "output_type": "execute_result"
    }
   ],
   "source": [
    "at_least_one = cars >= 1\n",
    "at_least_one.mean()"
   ]
  },
  {
   "cell_type": "code",
   "execution_count": 5,
   "id": "1a574753",
   "metadata": {},
   "outputs": [
    {
     "data": {
      "text/plain": [
       "0.1353352832366127"
      ]
     },
     "execution_count": 5,
     "metadata": {},
     "output_type": "execute_result"
    }
   ],
   "source": [
    "stats.poisson(2).pmf(0)"
   ]
  },
  {
   "cell_type": "code",
   "execution_count": 6,
   "id": "2c65c605",
   "metadata": {},
   "outputs": [
    {
     "data": {
      "text/plain": [
       "0.32332358381693654"
      ]
     },
     "execution_count": 6,
     "metadata": {},
     "output_type": "execute_result"
    }
   ],
   "source": [
    "stats.poisson(2).sf(2)"
   ]
  },
  {
   "cell_type": "code",
   "execution_count": 7,
   "id": "98772436",
   "metadata": {},
   "outputs": [
    {
     "data": {
      "text/plain": [
       "0.8646647167633873"
      ]
     },
     "execution_count": 7,
     "metadata": {},
     "output_type": "execute_result"
    }
   ],
   "source": [
    "stats.poisson(2).sf(0)"
   ]
  },
  {
   "cell_type": "markdown",
   "id": "58651919",
   "metadata": {},
   "source": [
    "2. Grades of State University graduates are normally distributed with a mean of 3.0 and a standard deviation of .3. Calculate the following:\n",
    "\n",
    "What grade point average is required to be in the top 5% of the graduating class?\n",
    "What GPA constitutes the bottom 15% of the class?\n",
    "An eccentric alumnus left scholarship money for students in the third decile from the bottom of their class. Determine the range of the third decile. Would a student with a 2.8 grade point average qualify for this scholarship?\n",
    "If I have a GPA of 3.5, what percentile am I in?"
   ]
  },
  {
   "cell_type": "code",
   "execution_count": 8,
   "id": "eca84d44",
   "metadata": {},
   "outputs": [
    {
     "data": {
      "text/plain": [
       "3.4934560880854417"
      ]
     },
     "execution_count": 8,
     "metadata": {},
     "output_type": "execute_result"
    }
   ],
   "source": [
    "grades = stats.norm(3, .3)\n",
    "grades.isf(.05) #top 5%\n",
    "grades.ppf(.95)"
   ]
  },
  {
   "cell_type": "code",
   "execution_count": 9,
   "id": "d20e4be5",
   "metadata": {},
   "outputs": [
    {
     "data": {
      "text/plain": [
       "2.689069983151863"
      ]
     },
     "execution_count": 9,
     "metadata": {},
     "output_type": "execute_result"
    }
   ],
   "source": [
    "grades.ppf(.15) #bottom 15%"
   ]
  },
  {
   "cell_type": "code",
   "execution_count": 10,
   "id": "98c04b3f",
   "metadata": {},
   "outputs": [
    {
     "data": {
      "text/plain": [
       "2.842679846187588"
      ]
     },
     "execution_count": 10,
     "metadata": {},
     "output_type": "execute_result"
    }
   ],
   "source": [
    "grades.ppf(.3) #top of 3rd decile"
   ]
  },
  {
   "cell_type": "code",
   "execution_count": 11,
   "id": "630bb0da",
   "metadata": {},
   "outputs": [
    {
     "data": {
      "text/plain": [
       "2.7475136299281258"
      ]
     },
     "execution_count": 11,
     "metadata": {},
     "output_type": "execute_result"
    }
   ],
   "source": [
    "grades.isf(.8) #bottom of 3rd decile\n",
    "# 2.8 GPA would qualify for the scholarship"
   ]
  },
  {
   "cell_type": "code",
   "execution_count": 12,
   "id": "8b6d27bb",
   "metadata": {},
   "outputs": [
    {
     "data": {
      "text/plain": [
       "0.9522096477271853"
      ]
     },
     "execution_count": 12,
     "metadata": {},
     "output_type": "execute_result"
    }
   ],
   "source": [
    "grades.cdf(3.5)"
   ]
  },
  {
   "cell_type": "code",
   "execution_count": 13,
   "id": "660af631",
   "metadata": {},
   "outputs": [],
   "source": [
    "n_trials = 10_000\n",
    "gpa = pd.DataFrame(np.random.normal(3, .3, n_trials))"
   ]
  },
  {
   "cell_type": "code",
   "execution_count": 14,
   "id": "0146df7d",
   "metadata": {},
   "outputs": [
    {
     "data": {
      "text/plain": [
       "3.4907034078525596"
      ]
     },
     "execution_count": 14,
     "metadata": {},
     "output_type": "execute_result"
    }
   ],
   "source": [
    "np.percentile(gpa, 95)"
   ]
  },
  {
   "cell_type": "code",
   "execution_count": 15,
   "id": "1ff2b9e9",
   "metadata": {},
   "outputs": [
    {
     "data": {
      "text/plain": [
       "2.6933868185368017"
      ]
     },
     "execution_count": 15,
     "metadata": {},
     "output_type": "execute_result"
    }
   ],
   "source": [
    "np.percentile(gpa, 15)"
   ]
  },
  {
   "cell_type": "code",
   "execution_count": 16,
   "id": "f71803c2",
   "metadata": {},
   "outputs": [
    {
     "data": {
      "text/plain": [
       "2.7476087412016974"
      ]
     },
     "execution_count": 16,
     "metadata": {},
     "output_type": "execute_result"
    }
   ],
   "source": [
    "np.percentile(gpa, 20)"
   ]
  },
  {
   "cell_type": "code",
   "execution_count": 17,
   "id": "be5b3312",
   "metadata": {},
   "outputs": [
    {
     "data": {
      "text/plain": [
       "2.8466846235056127"
      ]
     },
     "execution_count": 17,
     "metadata": {},
     "output_type": "execute_result"
    }
   ],
   "source": [
    "np.percentile(gpa, 30)"
   ]
  },
  {
   "cell_type": "code",
   "execution_count": 18,
   "id": "4eb736b8",
   "metadata": {},
   "outputs": [
    {
     "data": {
      "text/plain": [
       "0    0.9534\n",
       "dtype: float64"
      ]
     },
     "execution_count": 18,
     "metadata": {},
     "output_type": "execute_result"
    }
   ],
   "source": [
    "gpa_35 = gpa > 3.5\n",
    "1 - gpa_35.mean()"
   ]
  },
  {
   "cell_type": "markdown",
   "id": "481a8918",
   "metadata": {},
   "source": [
    "3. A marketing website has an average click-through rate of 2%. One day they observe 4326 visitors and 97 click-throughs. How likely is it that this many people or more click through?"
   ]
  },
  {
   "cell_type": "code",
   "execution_count": 23,
   "id": "05df3062",
   "metadata": {},
   "outputs": [
    {
     "data": {
      "text/plain": [
       "0.13975823631416445"
      ]
     },
     "execution_count": 23,
     "metadata": {},
     "output_type": "execute_result"
    }
   ],
   "source": [
    "click = .02\n",
    "n_trials = 4326\n",
    "stats.binom(n_trials, click).sf(96)"
   ]
  },
  {
   "cell_type": "code",
   "execution_count": 22,
   "id": "620cab34",
   "metadata": {},
   "outputs": [
    {
     "data": {
      "text/plain": [
       "0.1406"
      ]
     },
     "execution_count": 22,
     "metadata": {},
     "output_type": "execute_result"
    }
   ],
   "source": [
    "trials = 10_000\n",
    "today = 4326\n",
    "click_thru = np.random.choice([0, 1], size = trials * today, p=[.98, .02]).reshape(trials, today)\n",
    "did_click = click_thru.sum(axis=1) >= 97\n",
    "did_click.mean()"
   ]
  },
  {
   "cell_type": "markdown",
   "id": "3e6455eb",
   "metadata": {},
   "source": [
    "4. You are working on some statistics homework consisting of 100 questions where all of the answers are a probability rounded to the hundreths place. Looking to save time, you put down random probabilities as the answer to each question.\n",
    "\n",
    "What is the probability that at least one of your first 60 answers is correct?"
   ]
  },
  {
   "cell_type": "code",
   "execution_count": 38,
   "id": "aedf8e6c",
   "metadata": {},
   "outputs": [
    {
     "data": {
      "text/plain": [
       "0.45284335760923855"
      ]
     },
     "execution_count": 38,
     "metadata": {},
     "output_type": "execute_result"
    }
   ],
   "source": [
    "odds_of_correct = .01\n",
    "stats.binom(60, odds_of_correct).sf(0)"
   ]
  },
  {
   "cell_type": "code",
   "execution_count": 50,
   "id": "af768102",
   "metadata": {},
   "outputs": [
    {
     "data": {
      "text/plain": [
       "0.446"
      ]
     },
     "execution_count": 50,
     "metadata": {},
     "output_type": "execute_result"
    }
   ],
   "source": [
    "trials = 10_000\n",
    "questions = 60\n",
    "answers = np.random.choice([0,1], size = trials * questions, p=[.99, .01]).reshape(trials, questions)\n",
    "correct = answers.sum(axis=1) >= 1\n",
    "correct.mean()"
   ]
  },
  {
   "cell_type": "markdown",
   "id": "126cd837",
   "metadata": {},
   "source": [
    "5. The codeup staff tends to get upset when the student break area is not cleaned up. Suppose that \n",
    "there's a 3% chance that any one student cleans the break area when they visit it, and, on any given day, \n",
    "about 90% of the 3 active cohorts of 22 students visit the break area. How likely is it that the break area \n",
    "gets cleaned up each day? How likely is it that it goes two days without getting cleaned up? All week?"
   ]
  },
  {
   "cell_type": "code",
   "execution_count": 79,
   "id": "c3509c77",
   "metadata": {},
   "outputs": [
    {
     "data": {
      "text/plain": [
       "0.8342199288437352"
      ]
     },
     "execution_count": 79,
     "metadata": {},
     "output_type": "execute_result"
    }
   ],
   "source": [
    "clean_chance_per_student = .03\n",
    "visitors = round(.9 * 3 * 22)\n",
    "days = 1\n",
    "stats.binom(visitors * days, clean_chance_per_student).sf(0)"
   ]
  },
  {
   "cell_type": "code",
   "execution_count": 42,
   "id": "6b1c9559",
   "metadata": {},
   "outputs": [
    {
     "data": {
      "text/plain": [
       "0.02682143630162903"
      ]
     },
     "execution_count": 42,
     "metadata": {},
     "output_type": "execute_result"
    }
   ],
   "source": [
    "days = 2\n",
    "1 - stats.binom(visitors * days, clean_chance_per_student).sf(0)"
   ]
  },
  {
   "cell_type": "code",
   "execution_count": 43,
   "id": "0dbdc901",
   "metadata": {},
   "outputs": [
    {
     "data": {
      "text/plain": [
       "3.1600001839660052e-06"
      ]
     },
     "execution_count": 43,
     "metadata": {},
     "output_type": "execute_result"
    }
   ],
   "source": [
    "days = 7 \n",
    "1 - stats.binom(visitors * days, clean_chance_per_student).sf(0)"
   ]
  },
  {
   "cell_type": "code",
   "execution_count": 73,
   "id": "12feccd3",
   "metadata": {},
   "outputs": [
    {
     "data": {
      "text/plain": [
       "0.8396"
      ]
     },
     "execution_count": 73,
     "metadata": {},
     "output_type": "execute_result"
    }
   ],
   "source": [
    "visitors = round(visitors)\n",
    "trials = 10_000\n",
    "possible_cleans = np.random.choice([0,1], size = trials * visitors, p = [.97, .03]).reshape(trials, visitors)\n",
    "actually_cleaned = possible_cleans.sum(axis=1) >= 1\n",
    "actually_cleaned.mean()"
   ]
  },
  {
   "cell_type": "code",
   "execution_count": 74,
   "id": "1e02b3ec",
   "metadata": {},
   "outputs": [
    {
     "data": {
      "text/plain": [
       "0.026000000000000023"
      ]
     },
     "execution_count": 74,
     "metadata": {},
     "output_type": "execute_result"
    }
   ],
   "source": [
    "num_ppl_two = visitors * 2\n",
    "two_days_poss = np.random.choice([0,1], size = trials * num_ppl_two, p = [.97, .03]).reshape(trials, num_ppl_two)\n",
    "actually_cleaned = two_days_poss.sum(axis=1) >= 1\n",
    "1 - actually_cleaned.mean()"
   ]
  },
  {
   "cell_type": "code",
   "execution_count": 75,
   "id": "ac933227",
   "metadata": {},
   "outputs": [
    {
     "data": {
      "text/plain": [
       "0.0"
      ]
     },
     "execution_count": 75,
     "metadata": {},
     "output_type": "execute_result"
    }
   ],
   "source": [
    "num_ppl_seven = visitors * 7\n",
    "seven_days_poss = np.random.choice([0,1], size = trials * num_ppl_seven, p = [.97, .03]).reshape(trials, num_ppl_seven)\n",
    "actually_claned = seven_days_poss.sum(axis=1) >= 1\n",
    "1 - actually_claned.mean()"
   ]
  },
  {
   "cell_type": "markdown",
   "id": "ec32a6f0",
   "metadata": {},
   "source": [
    "6. You want to get lunch at La Panaderia, but notice that the line is usually very long at lunchtime. After several weeks of careful observation, you notice that the average number of people in line when your lunch break starts is normally distributed with a mean of 15 and standard deviation of 3. If it takes 2 minutes for each person to order, and 10 minutes from ordering to getting your food, what is the likelihood that you have at least 15 minutes left to eat your food before you have to go back to class? Assume you have one hour for lunch, and ignore travel time to and from La Panaderia."
   ]
  },
  {
   "cell_type": "code",
   "execution_count": 93,
   "id": "2d682977",
   "metadata": {},
   "outputs": [
    {
     "data": {
      "text/plain": [
       "0    0.79848\n",
       "dtype: float64"
      ]
     },
     "execution_count": 93,
     "metadata": {},
     "output_type": "execute_result"
    }
   ],
   "source": [
    "trials = 100_000\n",
    "m_people = 15\n",
    "std_people = 3\n",
    "min_per_order = 2\n",
    "wait = 10\n",
    "total_time = 60\n",
    "\n",
    "line_time = pd.DataFrame(np.random.normal(m_people,std_people , trials))\n",
    "line_time = line_time * min_per_order\n",
    "line_time_works = (line_time + wait) < (total_time - 15)\n",
    "line_time_works.mean()"
   ]
  },
  {
   "cell_type": "code",
   "execution_count": 98,
   "id": "a84d7650",
   "metadata": {},
   "outputs": [
    {
     "data": {
      "text/plain": [
       "0.7475074624530771"
      ]
     },
     "execution_count": 98,
     "metadata": {},
     "output_type": "execute_result"
    }
   ],
   "source": [
    "1 - stats.norm(15, 3).sf(17)"
   ]
  },
  {
   "cell_type": "code",
   "execution_count": 100,
   "id": "3c6897b5",
   "metadata": {},
   "outputs": [
    {
     "data": {
      "text/plain": [
       "0.7475074624530771"
      ]
     },
     "execution_count": 100,
     "metadata": {},
     "output_type": "execute_result"
    }
   ],
   "source": [
    "stats.norm(15, 3).cdf(17)"
   ]
  },
  {
   "cell_type": "markdown",
   "id": "c6aee71d",
   "metadata": {},
   "source": [
    "7. Connect to the employees database and find the average salary of current employees, along with the standard deviation. For the following questions, calculate the answer based on modeling the employees salaries with a normal distribution defined by the calculated mean and standard deviation then compare this answer to the actual values present in the salaries dataset.\n",
    "\n",
    "What percent of employees earn less than 60,000?\n",
    "What percent of employees earn more than 95,000?\n",
    "What percent of employees earn between 65,000 and 80,000?\n",
    "What do the top 5% of employees make?"
   ]
  },
  {
   "cell_type": "code",
   "execution_count": null,
   "id": "75926f74",
   "metadata": {},
   "outputs": [],
   "source": []
  }
 ],
 "metadata": {
  "kernelspec": {
   "display_name": "Python 3.9.7 64-bit ('base': conda)",
   "language": "python",
   "name": "python397jvsc74a57bd038cca0c38332a56087b24af0bc80247f4fced29cb4f7f437d91dc159adec9c4e"
  },
  "language_info": {
   "codemirror_mode": {
    "name": "ipython",
    "version": 3
   },
   "file_extension": ".py",
   "mimetype": "text/x-python",
   "name": "python",
   "nbconvert_exporter": "python",
   "pygments_lexer": "ipython3",
   "version": "3.9.7"
  }
 },
 "nbformat": 4,
 "nbformat_minor": 5
}
