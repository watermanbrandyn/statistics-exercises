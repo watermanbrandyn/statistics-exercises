{
 "cells": [
  {
   "cell_type": "markdown",
   "id": "ac450de0",
   "metadata": {},
   "source": [
    "Overview Exercises:\n",
    "\"Has the network latency gone up since we switched internet service providers?\"\n",
    "H0: There is not an increase in network latency between our new ISP and our old ISP. \n",
    "H1: There is an increase in network latency for our new ISP compared to our old ISP.\n",
    "True pos: There is a difference in network latency and our new ISP has more latency.\n",
    "True neg: There is no difference in network latency and our new ISP and old ISP have similar results.\n",
    "Type I error: We declare that there is a difference in network latency since using a new ISP but in actuality there is not. Maybe this is a temporary issue or our p-value was not properly assessed. \n",
    "Type II error: We declare there is not an increaes in network latency but there actually is. Perhaps this is due to inaccurate or incomplete capture of data, that doesn't span enough time or conditions to test true network latency.\n",
    "\n",
    "\"Is the website redesign any good?\"\n",
    "H0: There is not a change in traffic to our website since the redesign.\n",
    "H1: There is a change in traffic to our website since the redesign.\n",
    "True pos: There is an increase in traffic to the website since the redesign.\n",
    "True neg: There is not an increase in traffic to the website since the redesign.\n",
    "Type I error: We declare that there is a difference in traffic since the redesign, but this is not true. Perhaps we did not account for a long enough period of time or the increase in traffic was a result of a different factor/campaign.\n",
    "Type II error: We declare there is not an increase in traffic when there was, perhaps we did not account for an entire type of traffice, such as mobile traffic. \n",
    "\n",
    "\"Is our television ad driving more sales?\"\n",
    "H0: There is no difference in sales from before and after our TV ad.\n",
    "H1: There is a difference in sales from before and after our TV ad.\n",
    "True pos: There is a difference in sales from before and after our TV ad.\n",
    "True neg: There is no difference in sales from before and after our TV ad.\n",
    "Type I error: We declare that there is a difference in sales from our TV ad, but we did not properly attribute what the true factor was. Perhaps day of week or another factor was at play.\n",
    "Type II error: We declare that there is not a difference in sales from our TV ad, but there was. Perhaps we did not properly assess our p-value or have enough detailed data to give us the accurate picture.\n"
   ]
  },
  {
   "cell_type": "markdown",
   "id": "8142b22e",
   "metadata": {},
   "source": [
    "T-Test Exercises"
   ]
  },
  {
   "cell_type": "markdown",
   "id": "3bd85245",
   "metadata": {},
   "source": [
    "1. Ace Realty wants to determine whether the average time it takes to sell homes is different for its two offices. A sample of 40 sales from office #1 revealed a mean of 90 days and a standard deviation of 15 days. A sample of 50 sales from office #2 revealed a mean of 100 days and a standard deviation of 20 days. Use a .05 level of significance."
   ]
  },
  {
   "cell_type": "markdown",
   "id": "eb3019cb",
   "metadata": {},
   "source": [
    "A. Distributions"
   ]
  },
  {
   "cell_type": "code",
   "execution_count": 1,
   "id": "cb8bd67b",
   "metadata": {},
   "outputs": [],
   "source": [
    "import pandas as pd\n",
    "import matplotlib.pyplot as plt\n",
    "import scipy.stats as stats\n",
    "import seaborn as sns\n",
    "import numpy as np\n",
    "\n",
    "\n",
    "\n"
   ]
  },
  {
   "cell_type": "markdown",
   "id": "a5f1482b",
   "metadata": {},
   "source": [
    "Distributions:"
   ]
  },
  {
   "cell_type": "code",
   "execution_count": 19,
   "id": "d9c10ea1",
   "metadata": {},
   "outputs": [
    {
     "data": {
      "text/plain": [
       "<AxesSubplot:>"
      ]
     },
     "execution_count": 19,
     "metadata": {},
     "output_type": "execute_result"
    },
    {
     "data": {
      "image/png": "[encoded data removed]",
      "text/plain": [
       "<Figure size 432x288 with 1 Axes>"
      ]
     },
     "metadata": {
      "needs_background": "light"
     },
     "output_type": "display_data"
    }
   ],
   "source": [
    "office_1 = pd.Series(stats.norm(90, 15).rvs(40))\n",
    "office_1.hist()"
   ]
  },
  {
   "cell_type": "code",
   "execution_count": 10,
   "id": "40602633",
   "metadata": {},
   "outputs": [
    {
     "data": {
      "text/plain": [
       "<matplotlib.legend.Legend at 0x7fe2080421c0>"
      ]
     },
     "execution_count": 10,
     "metadata": {},
     "output_type": "execute_result"
    },
    {
     "data": {
      "image/png": "[encoded data removed]",
      "text/plain": [
       "<Figure size 432x288 with 1 Axes>"
      ]
     },
     "metadata": {
      "needs_background": "light"
     },
     "output_type": "display_data"
    }
   ],
   "source": [
    "# Borrowed code - I need to analyze how to do this myself\n",
    "\n",
    "x = np.arange(50, 150)\n",
    "\n",
    "y1 = stats.norm(90, 15).pdf(x)\n",
    "y2 = stats.norm(100, 20).pdf(x)\n",
    "\n",
    "\n",
    "plt.plot(x, y1, c='blue', label = 'Office 1')\n",
    "plt.plot(x, y2, c='orange', label = 'Office 2')\n",
    "\n",
    "\n",
    "plt.ylabel('Frequency %')\n",
    "plt.xlabel('Number of Days')\n",
    "plt.title('Average Number of Days to Sell Home')\n",
    "plt.legend()"
   ]
  },
  {
   "cell_type": "markdown",
   "id": "57186264",
   "metadata": {},
   "source": [
    "Set Hypothesis:"
   ]
  },
  {
   "cell_type": "markdown",
   "id": "fe0deb26",
   "metadata": {},
   "source": [
    "H0: Average sell time for office # 1 == to Average sell time for office # 2"
   ]
  },
  {
   "cell_type": "markdown",
   "id": "a4ca908d",
   "metadata": {},
   "source": [
    "HA: Average sell time for office # 1 != Average sell time for office # 2"
   ]
  },
  {
   "cell_type": "markdown",
   "id": "76a21ea6",
   "metadata": {},
   "source": [
    "Set alpha: "
   ]
  },
  {
   "cell_type": "code",
   "execution_count": 12,
   "id": "0672f046",
   "metadata": {},
   "outputs": [],
   "source": [
    "alpha = .05"
   ]
  },
  {
   "cell_type": "markdown",
   "id": "fb64bcfa",
   "metadata": {},
   "source": [
    "Assumptions:"
   ]
  },
  {
   "cell_type": "markdown",
   "id": "ee4eb1c5",
   "metadata": {},
   "source": [
    "### Independent: Yes\n",
    "### Normal distribution: Yes, we presume normality based on graph curation and sample sizes.\n",
    "### Variance: No, not equal. "
   ]
  },
  {
   "cell_type": "code",
   "execution_count": 23,
   "id": "dd33f873",
   "metadata": {},
   "outputs": [
    {
     "data": {
      "text/plain": [
       "[225, 400]"
      ]
     },
     "execution_count": 23,
     "metadata": {},
     "output_type": "execute_result"
    }
   ],
   "source": [
    "off_1_var = 15 ** 2 \n",
    "off_2_var = 20 ** 2\n",
    "[off_1_var, \n",
    "off_2_var]"
   ]
  },
  {
   "cell_type": "code",
   "execution_count": 74,
   "id": "a287da11",
   "metadata": {},
   "outputs": [
    {
     "name": "stdout",
     "output_type": "stream",
     "text": [
      "t:-2.7091418459143854, p:0.00811206270346016, alpha:0.05\n",
      "Reject null\n"
     ]
    }
   ],
   "source": [
    "t, p = stats.ttest_ind_from_stats(90, 15, 40, 100, 20, 50, equal_var=False, alternative='two-sided')\n",
    "\n",
    "print(f't:{t}, p:{p}, alpha:{alpha}')\n",
    "\n",
    "if t != 0 and p < alpha:\n",
    "    print('Reject null')\n",
    "else: \n",
    "    print('Do not reject null')"
   ]
  },
  {
   "cell_type": "markdown",
   "id": "caf89792",
   "metadata": {},
   "source": [
    "The t value is < 0 and the p-value is less than alpha. From this, the p-value, we can reject our null hypothesis and state that the Average sell time for office # 1 and the average sell time for office # 2 are not equal. "
   ]
  },
  {
   "cell_type": "code",
   "execution_count": 32,
   "id": "eacd33f4",
   "metadata": {},
   "outputs": [],
   "source": [
    "# a > b - t value outcome is to what degree the truth of this statement is\n",
    "# negative implies that a is actually < b, positive implies that a is in fact > b, in actuality it tells you \n",
    "# which 'tail' is being used"
   ]
  },
  {
   "cell_type": "markdown",
   "id": "bce62979",
   "metadata": {},
   "source": [
    "2. Load the mpg dataset and use it to answer the following questions:\n",
    "Is there a difference in fuel-efficiency in cars from 2008 vs 1999?"
   ]
  },
  {
   "cell_type": "code",
   "execution_count": 34,
   "id": "c61ea547",
   "metadata": {},
   "outputs": [],
   "source": [
    "from pydataset import data\n",
    "mpg = data('mpg') "
   ]
  },
  {
   "cell_type": "code",
   "execution_count": 60,
   "id": "07cc50b1",
   "metadata": {},
   "outputs": [],
   "source": [
    "# mpg.info()\n",
    "\n",
    "mpg['average_mileage'] = mpg[['cty', 'hwy']].mean(axis=1)\n",
    "fuel_eff_2008 = mpg[mpg.year == 2008].average_mileage\n",
    "fuel_eff_1999 = mpg[mpg.year == 1999].average_mileage"
   ]
  },
  {
   "cell_type": "code",
   "execution_count": 65,
   "id": "51c7247f",
   "metadata": {},
   "outputs": [
    {
     "data": {
      "text/plain": [
       "<AxesSubplot:>"
      ]
     },
     "execution_count": 65,
     "metadata": {},
     "output_type": "execute_result"
    },
    {
     "data": {
      "image/png": "[encoded data removed]",
      "text/plain": [
       "<Figure size 432x288 with 1 Axes>"
      ]
     },
     "metadata": {
      "needs_background": "light"
     },
     "output_type": "display_data"
    }
   ],
   "source": [
    "fuel_eff_2008.hist()"
   ]
  },
  {
   "cell_type": "code",
   "execution_count": 66,
   "id": "c47690db",
   "metadata": {},
   "outputs": [
    {
     "data": {
      "text/plain": [
       "<AxesSubplot:>"
      ]
     },
     "execution_count": 66,
     "metadata": {},
     "output_type": "execute_result"
    },
    {
     "data": {
      "image/png": "[encoded data removed]",
      "text/plain": [
       "<Figure size 432x288 with 1 Axes>"
      ]
     },
     "metadata": {
      "needs_background": "light"
     },
     "output_type": "display_data"
    }
   ],
   "source": [
    "fuel_eff_1999.hist()"
   ]
  },
  {
   "cell_type": "code",
   "execution_count": 67,
   "id": "0d751d92",
   "metadata": {},
   "outputs": [],
   "source": [
    "# H0: Fuel-efficiency for cars from 2008 == Fuel-efficiency for cars from 1999\n",
    "# HA: Fuel-efficiency for cars from 2009 != Fuel-efficiency for cars from 1999"
   ]
  },
  {
   "cell_type": "code",
   "execution_count": 61,
   "id": "7c10d0ed",
   "metadata": {},
   "outputs": [],
   "source": [
    "alpha = .05"
   ]
  },
  {
   "cell_type": "code",
   "execution_count": 69,
   "id": "d0bd43a2",
   "metadata": {},
   "outputs": [
    {
     "data": {
      "text/plain": [
       "(24.097480106100797, 27.122605363984682)"
      ]
     },
     "execution_count": 69,
     "metadata": {},
     "output_type": "execute_result"
    }
   ],
   "source": [
    "v_08 = fuel_eff_2008.var()\n",
    "v_99 = fuel_eff_1999.var()\n",
    "v_08, v_99"
   ]
  },
  {
   "cell_type": "code",
   "execution_count": 71,
   "id": "765b025b",
   "metadata": {},
   "outputs": [],
   "source": [
    "# Assumptions:\n",
    "# Independent: Yes\n",
    "# Normal distribution: Yes, based on sample size and graph curation. \n",
    "# Variance: No, they are not the same variance."
   ]
  },
  {
   "cell_type": "code",
   "execution_count": 73,
   "id": "531c9ad7",
   "metadata": {},
   "outputs": [
    {
     "name": "stdout",
     "output_type": "stream",
     "text": [
      "t:-0.21960177245940962, p:0.8263750772060638, alpha:0.05\n",
      "Do not reject null\n"
     ]
    }
   ],
   "source": [
    "t, p = stats.ttest_ind(fuel_eff_2008, fuel_eff_1999 , equal_var=False)\n",
    "\n",
    "print(f't:{t}, p:{p}, alpha:{alpha}')\n",
    "\n",
    "if t != 0 and p < alpha:\n",
    "    print('Reject null')\n",
    "else: \n",
    "    print('Do not reject null')"
   ]
  },
  {
   "cell_type": "code",
   "execution_count": 81,
   "id": "2a0f2eb5",
   "metadata": {},
   "outputs": [],
   "source": [
    "# Based on the p-value being greater than the alpha, we fail to reject the null hypothesis."
   ]
  },
  {
   "cell_type": "markdown",
   "id": "10edd114",
   "metadata": {},
   "source": [
    "Are compact cars more fuel-efficient than the average car?"
   ]
  },
  {
   "cell_type": "code",
   "execution_count": 87,
   "id": "2e5bc9b5",
   "metadata": {},
   "outputs": [
    {
     "data": {
      "text/plain": [
       "20.14957264957265"
      ]
     },
     "execution_count": 87,
     "metadata": {},
     "output_type": "execute_result"
    }
   ],
   "source": [
    "mpg.head()\n",
    "fuel_eff_compact = mpg[mpg['class'] == 'compact'].average_mileage\n",
    "avg_car_eff = mpg.average_mileage.mean()\n",
    "avg_car_eff"
   ]
  },
  {
   "cell_type": "code",
   "execution_count": 88,
   "id": "a2c3fffe",
   "metadata": {},
   "outputs": [
    {
     "data": {
      "text/plain": [
       "<AxesSubplot:>"
      ]
     },
     "execution_count": 88,
     "metadata": {},
     "output_type": "execute_result"
    },
    {
     "data": {
      "image/png": "[encoded data removed]",
      "text/plain": [
       "<Figure size 432x288 with 1 Axes>"
      ]
     },
     "metadata": {
      "needs_background": "light"
     },
     "output_type": "display_data"
    }
   ],
   "source": [
    "fuel_eff_compact.hist()"
   ]
  },
  {
   "cell_type": "code",
   "execution_count": 89,
   "id": "fd7b748d",
   "metadata": {},
   "outputs": [],
   "source": [
    "# H0: Compact car fuel-efficiency == fuel-efficiency of average car\n",
    "# HA: Compact car fuel-efficiency > fuel-efficiency of average car"
   ]
  },
  {
   "cell_type": "code",
   "execution_count": 90,
   "id": "a927fc9f",
   "metadata": {},
   "outputs": [],
   "source": [
    "alpha = .05"
   ]
  },
  {
   "cell_type": "code",
   "execution_count": 91,
   "id": "a7fda674",
   "metadata": {},
   "outputs": [
    {
     "data": {
      "text/plain": [
       "(25.50542900113715, 12.442876965772433)"
      ]
     },
     "execution_count": 91,
     "metadata": {},
     "output_type": "execute_result"
    }
   ],
   "source": [
    "avg_car_v = mpg.average_mileage.var()\n",
    "compact_v = fuel_eff_compact.var()\n",
    "avg_car_v, compact_v"
   ]
  },
  {
   "cell_type": "code",
   "execution_count": 98,
   "id": "9290448c",
   "metadata": {},
   "outputs": [],
   "source": [
    "# Assumptions:\n",
    "# Independent: Yes\n",
    "# Normal distribution: Yes, based on sample size and graph curation. \n",
    "# Variance: No, they are not the same variance."
   ]
  },
  {
   "cell_type": "code",
   "execution_count": 101,
   "id": "ad86ab6f",
   "metadata": {},
   "outputs": [
    {
     "name": "stdout",
     "output_type": "stream",
     "text": [
      "t:7.896888573132535, p:2.0992818971585668e-10, alpha:0.05\n",
      "Reject null\n"
     ]
    }
   ],
   "source": [
    "t, p = stats.ttest_1samp(fuel_eff_compact, avg_car_eff, alternative='greater')\n",
    "\n",
    "print(f't:{t}, p:{p}, alpha:{alpha}')\n",
    "\n",
    "if t > 0 and p < alpha:\n",
    "    print('Reject null')\n",
    "else: \n",
    "    print('Do not reject null')"
   ]
  },
  {
   "cell_type": "code",
   "execution_count": 99,
   "id": "443cb666",
   "metadata": {},
   "outputs": [],
   "source": [
    "# Based on the t being greater than 0 and the p-value being below the alpha, we can reject the null hypothesis. The compact car fuel-efficiency \n",
    "# is greater than fuel-efficiency of average car."
   ]
  },
  {
   "cell_type": "markdown",
   "id": "bdf99610",
   "metadata": {},
   "source": [
    "Do manual cars get better gas mileage than automatic cars?"
   ]
  },
  {
   "cell_type": "code",
   "execution_count": 122,
   "id": "e998ae76",
   "metadata": {},
   "outputs": [],
   "source": [
    "mpg['is_automatic'] = mpg.trans.str.contains('auto')\n",
    "\n",
    "fuel_eff_auto = mpg[mpg.is_automatic == True].average_mileage\n",
    "fuel_eff_man = mpg[mpg.is_automatic == False].average_mileage"
   ]
  },
  {
   "cell_type": "code",
   "execution_count": 119,
   "id": "d34437c1",
   "metadata": {},
   "outputs": [
    {
     "data": {
      "text/plain": [
       "<AxesSubplot:>"
      ]
     },
     "execution_count": 119,
     "metadata": {},
     "output_type": "execute_result"
    },
    {
     "data": {
      "image/png": "[encoded data removed]",
      "text/plain": [
       "<Figure size 432x288 with 1 Axes>"
      ]
     },
     "metadata": {
      "needs_background": "light"
     },
     "output_type": "display_data"
    }
   ],
   "source": [
    "fuel_eff_auto.hist()"
   ]
  },
  {
   "cell_type": "code",
   "execution_count": 120,
   "id": "568346be",
   "metadata": {},
   "outputs": [
    {
     "data": {
      "text/plain": [
       "<AxesSubplot:>"
      ]
     },
     "execution_count": 120,
     "metadata": {},
     "output_type": "execute_result"
    },
    {
     "data": {
      "image/png": "[encoded data removed]",
      "text/plain": [
       "<Figure size 432x288 with 1 Axes>"
      ]
     },
     "metadata": {
      "needs_background": "light"
     },
     "output_type": "display_data"
    }
   ],
   "source": [
    "fuel_eff_man.hist()"
   ]
  },
  {
   "cell_type": "code",
   "execution_count": 121,
   "id": "3449b165",
   "metadata": {},
   "outputs": [],
   "source": [
    "# H0: Manual car fuel-efficiency == Auto car fuel-efficiency\n",
    "# HA: Manual car fuel-efficiency > Auto car fuel-efficiency"
   ]
  },
  {
   "cell_type": "code",
   "execution_count": 123,
   "id": "0e051afd",
   "metadata": {},
   "outputs": [],
   "source": [
    "alpha = .05"
   ]
  },
  {
   "cell_type": "code",
   "execution_count": 125,
   "id": "234f0ac6",
   "metadata": {},
   "outputs": [
    {
     "data": {
      "text/plain": [
       "(26.635167464114826, 21.942777233382337)"
      ]
     },
     "execution_count": 125,
     "metadata": {},
     "output_type": "execute_result"
    }
   ],
   "source": [
    "man_v = fuel_eff_man.var()\n",
    "auto_v = fuel_eff_auto.var()\n",
    "man_v, auto_v"
   ]
  },
  {
   "cell_type": "code",
   "execution_count": 126,
   "id": "886b5eff",
   "metadata": {},
   "outputs": [],
   "source": [
    "# Assumptions:\n",
    "# Independent: Yes\n",
    "# Normal distribution: Yes, based on sample size and graph curation. \n",
    "# Variance: No, they are not the same variance."
   ]
  },
  {
   "cell_type": "code",
   "execution_count": 128,
   "id": "0a7ddaa3",
   "metadata": {},
   "outputs": [
    {
     "name": "stdout",
     "output_type": "stream",
     "text": [
      "t:4.443514012903071, p:8.976124499958965e-06, alpha:0.05\n",
      "Reject null\n"
     ]
    }
   ],
   "source": [
    "t, p = stats.ttest_ind(fuel_eff_man,fuel_eff_auto , equal_var=False, alternative='greater')\n",
    "\n",
    "print(f't:{t}, p:{p}, alpha:{alpha}')\n",
    "\n",
    "if t > 0 and p < alpha:\n",
    "    print('Reject null')\n",
    "else: \n",
    "    print('Do not reject null')"
   ]
  },
  {
   "cell_type": "code",
   "execution_count": 129,
   "id": "6db946f8",
   "metadata": {},
   "outputs": [],
   "source": [
    "# Based on the t being greater than 0 and the p-value being less than alpha we can reject the null hypothesis.\n",
    "# Thus, the manual car fuel-efficiency is greater than the auto car fuel-efficiency."
   ]
  },
  {
   "cell_type": "code",
   "execution_count": null,
   "id": "b43463f8",
   "metadata": {},
   "outputs": [],
   "source": []
  }
 ],
 "metadata": {
  "kernelspec": {
   "display_name": "Python 3.9.7 64-bit ('base': conda)",
   "language": "python",
   "name": "python397jvsc74a57bd038cca0c38332a56087b24af0bc80247f4fced29cb4f7f437d91dc159adec9c4e"
  },
  "language_info": {
   "codemirror_mode": {
    "name": "ipython",
    "version": 3
   },
   "file_extension": ".py",
   "mimetype": "text/x-python",
   "name": "python",
   "nbconvert_exporter": "python",
   "pygments_lexer": "ipython3",
   "version": "3.9.7"
  }
 },
 "nbformat": 4,
 "nbformat_minor": 5
}
