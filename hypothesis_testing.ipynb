{
 "cells": [
  {
   "cell_type": "markdown",
   "id": "ac450de0",
   "metadata": {},
   "source": [
    "Overview Exercises:\n",
    "\"Has the network latency gone up since we switched internet service providers?\"\n",
    "H0: There is not an increase in network latency between our new ISP and our old ISP. \n",
    "H1: There is an increase in network latency for our new ISP compared to our old ISP.\n",
    "True pos: There is a difference in network latency and our new ISP has more latency.\n",
    "True neg: There is no difference in network latency and our new ISP and old ISP have similar results.\n",
    "Type I error: We declare that there is a difference in network latency since using a new ISP but in actuality there is not. Maybe this is a temporary issue or our p-value was not properly assessed. \n",
    "Type II error: We declare there is not an increaes in network latency but there actually is. Perhaps this is due to inaccurate or incomplete capture of data, that doesn't span enough time or conditions to test true network latency.\n",
    "\n",
    "\"Is the website redesign any good?\"\n",
    "H0: There is not a change in traffic to our website since the redesign.\n",
    "H1: There is a change in traffic to our website since the redesign.\n",
    "True pos: There is an increase in traffic to the website since the redesign.\n",
    "True neg: There is not an increase in traffic to the website since the redesign.\n",
    "Type I error: We declare that there is a difference in traffic since the redesign, but this is not true. Perhaps we did not account for a long enough period of time or the increase in traffic was a result of a different factor/campaign.\n",
    "Type II error: We declare there is not an increase in traffic when there was, perhaps we did not account for an entire type of traffice, such as mobile traffic. \n",
    "\n",
    "\"Is our television ad driving more sales?\"\n",
    "H0: There is no difference in sales from before and after our TV ad.\n",
    "H1: There is a difference in sales from before and after our TV ad.\n",
    "True pos: There is a difference in sales from before and after our TV ad.\n",
    "True neg: There is no difference in sales from before and after our TV ad.\n",
    "Type I error: We declare that there is a difference in sales from our TV ad, but we did not properly attribute what the true factor was. Perhaps day of week or another factor was at play.\n",
    "Type II error: We declare that there is not a difference in sales from our TV ad, but there was. Perhaps we did not properly assess our p-value or have enough detailed data to give us the accurate picture.\n"
   ]
  },
  {
   "cell_type": "markdown",
   "id": "4c609d5e",
   "metadata": {},
   "source": [
    "T-Test Exercises"
   ]
  },
  {
   "cell_type": "markdown",
   "id": "eef5318a",
   "metadata": {},
   "source": [
    "1. Ace Realty wants to determine whether the average time it takes to sell homes is different for its two offices. A sample of 40 sales from office #1 revealed a mean of 90 days and a standard deviation of 15 days. A sample of 50 sales from office #2 revealed a mean of 100 days and a standard deviation of 20 days. Use a .05 level of significance."
   ]
  },
  {
   "cell_type": "markdown",
   "id": "9d4722e5",
   "metadata": {},
   "source": [
    "A. Distributions"
   ]
  },
  {
   "cell_type": "code",
   "execution_count": 1,
   "id": "89fa64c2",
   "metadata": {},
   "outputs": [],
   "source": [
    "import pandas as pd\n",
    "import matplotlib.pyplot as plt\n",
    "import scipy.stats as stats\n",
    "import seaborn as sns\n",
    "import numpy as np\n",
    "\n",
    "\n",
    "\n"
   ]
  },
  {
   "cell_type": "markdown",
   "id": "06cf673e",
   "metadata": {},
   "source": [
    "Distributions:"
   ]
  },
  {
   "cell_type": "code",
   "execution_count": 19,
   "id": "1b820153",
   "metadata": {},
   "outputs": [
    {
     "data": {
      "text/plain": [
       "<AxesSubplot:>"
      ]
     },
     "execution_count": 19,
     "metadata": {},
     "output_type": "execute_result"
    },
    {
     "data": {
      "image/png": "[encoded data removed]",
      "text/plain": [
       "<Figure size 432x288 with 1 Axes>"
      ]
     },
     "metadata": {
      "needs_background": "light"
     },
     "output_type": "display_data"
    }
   ],
   "source": [
    "office_1 = pd.Series(stats.norm(90, 15).rvs(40))\n",
    "office_1.hist()"
   ]
  },
  {
   "cell_type": "code",
   "execution_count": 10,
   "id": "6a16631e",
   "metadata": {},
   "outputs": [
    {
     "data": {
      "text/plain": [
       "<matplotlib.legend.Legend at 0x7fe2080421c0>"
      ]
     },
     "execution_count": 10,
     "metadata": {},
     "output_type": "execute_result"
    },
    {
     "data": {
      "image/png": "[encoded data removed]",
      "text/plain": [
       "<Figure size 432x288 with 1 Axes>"
      ]
     },
     "metadata": {
      "needs_background": "light"
     },
     "output_type": "display_data"
    }
   ],
   "source": [
    "# Borrowed code - I need to analyze how to do this myself\n",
    "\n",
    "x = np.arange(50, 150)\n",
    "\n",
    "y1 = stats.norm(90, 15).pdf(x)\n",
    "y2 = stats.norm(100, 20).pdf(x)\n",
    "\n",
    "\n",
    "plt.plot(x, y1, c='blue', label = 'Office 1')\n",
    "plt.plot(x, y2, c='orange', label = 'Office 2')\n",
    "\n",
    "\n",
    "plt.ylabel('Frequency %')\n",
    "plt.xlabel('Number of Days')\n",
    "plt.title('Average Number of Days to Sell Home')\n",
    "plt.legend()"
   ]
  },
  {
   "cell_type": "markdown",
   "id": "47330bf7",
   "metadata": {},
   "source": [
    "Set Hypothesis:"
   ]
  },
  {
   "cell_type": "markdown",
   "id": "149615db",
   "metadata": {},
   "source": [
    "H0: Average sell time for office # 1 == to Average sell time for office # 2"
   ]
  },
  {
   "cell_type": "markdown",
   "id": "e395a849",
   "metadata": {},
   "source": [
    "HA: Average sell time for office # 1 < Average sell time for office # 2"
   ]
  },
  {
   "cell_type": "markdown",
   "id": "7657aea4",
   "metadata": {},
   "source": [
    "Set alpha: "
   ]
  },
  {
   "cell_type": "code",
   "execution_count": 12,
   "id": "4b2b8c67",
   "metadata": {},
   "outputs": [],
   "source": [
    "alpha = .05"
   ]
  },
  {
   "cell_type": "markdown",
   "id": "a6db4a6b",
   "metadata": {},
   "source": [
    "Assumptions:"
   ]
  },
  {
   "cell_type": "markdown",
   "id": "645b7f9a",
   "metadata": {},
   "source": [
    "Independent samples: Yes\n",
    "Normal distribution: Yes, we presume normality based on graph curation and sample sizes."
   ]
  }
 ],
 "metadata": {
  "kernelspec": {
   "display_name": "Python 3.9.7 64-bit ('base': conda)",
   "language": "python",
   "name": "python397jvsc74a57bd038cca0c38332a56087b24af0bc80247f4fced29cb4f7f437d91dc159adec9c4e"
  },
  "language_info": {
   "codemirror_mode": {
    "name": "ipython",
    "version": 3
   },
   "file_extension": ".py",
   "mimetype": "text/x-python",
   "name": "python",
   "nbconvert_exporter": "python",
   "pygments_lexer": "ipython3",
   "version": "3.9.7"
  }
 },
 "nbformat": 4,
 "nbformat_minor": 5
}
