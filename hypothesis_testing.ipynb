{
 "cells": [
  {
   "cell_type": "markdown",
   "id": "ac450de0",
   "metadata": {},
   "source": [
    "Overview Exercises:\n",
    "\"Has the network latency gone up since we switched internet service providers?\"\n",
    "H0: There is not an increase in network latency between our new ISP and our old ISP. \n",
    "H1: There is an increase in network latency for our new ISP compared to our old ISP.\n",
    "True pos: There is a difference in network latency and our new ISP has more latency.\n",
    "True neg: There is no difference in network latency and our new ISP and old ISP have similar results.\n",
    "Type I error: We declare that there is a difference in network latency since using a new ISP but in actuality there is not. Maybe this is a temporary issue or our p-value was not properly assessed. \n",
    "Type II error: We declare there is not an increaes in network latency but there actually is. Perhaps this is due to inaccurate or incomplete capture of data, that doesn't span enough time or conditions to test true network latency.\n",
    "\n",
    "\"Is the website redesign any good?\"\n",
    "H0: There is not a change in traffic to our website since the redesign.\n",
    "H1: There is a change in traffic to our website since the redesign.\n",
    "True pos: There is an increase in traffic to the website since the redesign.\n",
    "True neg: There is not an increase in traffic to the website since the redesign.\n",
    "Type I error: We declare that there is a difference in traffic since the redesign, but this is not true. Perhaps we did not account for a long enough period of time or the increase in traffic was a result of a different factor/campaign.\n",
    "Type II error: We declare there is not an increase in traffic when there was, perhaps we did not account for an entire type of traffice, such as mobile traffic. \n",
    "\n",
    "\"Is our television ad driving more sales?\"\n",
    "H0: There is no difference in sales from before and after our TV ad.\n",
    "H1: There is a difference in sales from before and after our TV ad.\n",
    "True pos: There is a difference in sales from before and after our TV ad.\n",
    "True neg: There is no difference in sales from before and after our TV ad.\n",
    "Type I error: We declare that there is a difference in sales from our TV ad, but we did not properly attribute what the true factor was. Perhaps day of week or another factor was at play.\n",
    "Type II error: We declare that there is not a difference in sales from our TV ad, but there was. Perhaps we did not properly assess our p-value or have enough detailed data to give us the accurate picture.\n"
   ]
  },
  {
   "cell_type": "markdown",
   "id": "8142b22e",
   "metadata": {},
   "source": [
    "T-Test Exercises"
   ]
  },
  {
   "cell_type": "markdown",
   "id": "3bd85245",
   "metadata": {},
   "source": [
    "1. Ace Realty wants to determine whether the average time it takes to sell homes is different for its two offices. A sample of 40 sales from office #1 revealed a mean of 90 days and a standard deviation of 15 days. A sample of 50 sales from office #2 revealed a mean of 100 days and a standard deviation of 20 days. Use a .05 level of significance."
   ]
  },
  {
   "cell_type": "markdown",
   "id": "eb3019cb",
   "metadata": {},
   "source": [
    "A. Distributions"
   ]
  },
  {
   "cell_type": "code",
   "execution_count": 1,
   "id": "cb8bd67b",
   "metadata": {},
   "outputs": [],
   "source": [
    "import pandas as pd\n",
    "import matplotlib.pyplot as plt\n",
    "import scipy.stats as stats\n",
    "import seaborn as sns\n",
    "import numpy as np\n",
    "\n",
    "\n",
    "\n"
   ]
  },
  {
   "cell_type": "markdown",
   "id": "a5f1482b",
   "metadata": {},
   "source": [
    "Distributions:"
   ]
  },
  {
   "cell_type": "code",
   "execution_count": 19,
   "id": "d9c10ea1",
   "metadata": {},
   "outputs": [
    {
     "data": {
      "text/plain": [
       "<AxesSubplot:>"
      ]
     },
     "execution_count": 19,
     "metadata": {},
     "output_type": "execute_result"
    },
    {
     "data": {
      "image/png": "[encoded data removed]",
      "text/plain": [
       "<Figure size 432x288 with 1 Axes>"
      ]
     },
     "metadata": {
      "needs_background": "light"
     },
     "output_type": "display_data"
    }
   ],
   "source": [
    "office_1 = pd.Series(stats.norm(90, 15).rvs(40))\n",
    "office_1.hist()"
   ]
  },
  {
   "cell_type": "code",
   "execution_count": 10,
   "id": "40602633",
   "metadata": {},
   "outputs": [
    {
     "data": {
      "text/plain": [
       "<matplotlib.legend.Legend at 0x7fe2080421c0>"
      ]
     },
     "execution_count": 10,
     "metadata": {},
     "output_type": "execute_result"
    },
    {
     "data": {
      "image/png": "[encoded data removed]",
      "text/plain": [
       "<Figure size 432x288 with 1 Axes>"
      ]
     },
     "metadata": {
      "needs_background": "light"
     },
     "output_type": "display_data"
    }
   ],
   "source": [
    "# Borrowed code - I need to analyze how to do this myself\n",
    "\n",
    "x = np.arange(50, 150)\n",
    "\n",
    "y1 = stats.norm(90, 15).pdf(x)\n",
    "y2 = stats.norm(100, 20).pdf(x)\n",
    "\n",
    "\n",
    "plt.plot(x, y1, c='blue', label = 'Office 1')\n",
    "plt.plot(x, y2, c='orange', label = 'Office 2')\n",
    "\n",
    "\n",
    "plt.ylabel('Frequency %')\n",
    "plt.xlabel('Number of Days')\n",
    "plt.title('Average Number of Days to Sell Home')\n",
    "plt.legend()"
   ]
  },
  {
   "cell_type": "markdown",
   "id": "57186264",
   "metadata": {},
   "source": [
    "Set Hypothesis:"
   ]
  },
  {
   "cell_type": "markdown",
   "id": "fe0deb26",
   "metadata": {},
   "source": [
    "H0: Average sell time for office # 1 == to Average sell time for office # 2"
   ]
  },
  {
   "cell_type": "markdown",
   "id": "a4ca908d",
   "metadata": {},
   "source": [
    "HA: Average sell time for office # 1 != Average sell time for office # 2"
   ]
  },
  {
   "cell_type": "markdown",
   "id": "76a21ea6",
   "metadata": {},
   "source": [
    "Set alpha: "
   ]
  },
  {
   "cell_type": "code",
   "execution_count": 12,
   "id": "0672f046",
   "metadata": {},
   "outputs": [],
   "source": [
    "alpha = .05"
   ]
  },
  {
   "cell_type": "markdown",
   "id": "fb64bcfa",
   "metadata": {},
   "source": [
    "Assumptions:"
   ]
  },
  {
   "cell_type": "markdown",
   "id": "ee4eb1c5",
   "metadata": {},
   "source": [
    "### Independent: Yes\n",
    "### Normal distribution: Yes, we presume normality based on graph curation and sample sizes.\n",
    "### Variance: No, not equal. "
   ]
  },
  {
   "cell_type": "code",
   "execution_count": 23,
   "id": "dd33f873",
   "metadata": {},
   "outputs": [
    {
     "data": {
      "text/plain": [
       "[225, 400]"
      ]
     },
     "execution_count": 23,
     "metadata": {},
     "output_type": "execute_result"
    }
   ],
   "source": [
    "off_1_var = 15 ** 2 \n",
    "off_2_var = 20 ** 2\n",
    "[off_1_var, \n",
    "off_2_var]"
   ]
  },
  {
   "cell_type": "code",
   "execution_count": 74,
   "id": "a287da11",
   "metadata": {},
   "outputs": [
    {
     "name": "stdout",
     "output_type": "stream",
     "text": [
      "t:-2.7091418459143854, p:0.00811206270346016, alpha:0.05\n",
      "Reject null\n"
     ]
    }
   ],
   "source": [
    "t, p = stats.ttest_ind_from_stats(90, 15, 40, 100, 20, 50, equal_var=False, alternative='two-sided')\n",
    "\n",
    "print(f't:{t}, p:{p}, alpha:{alpha}')\n",
    "\n",
    "if t != 0 and p < alpha:\n",
    "    print('Reject null')\n",
    "else: \n",
    "    print('Do not reject null')"
   ]
  },
  {
   "cell_type": "markdown",
   "id": "caf89792",
   "metadata": {},
   "source": [
    "The t value is < 0 and the p-value is less than alpha. From this, the p-value, we can reject our null hypothesis and state that the Average sell time for office # 1 and the average sell time for office # 2 are not equal. "
   ]
  },
  {
   "cell_type": "code",
   "execution_count": 32,
   "id": "eacd33f4",
   "metadata": {},
   "outputs": [],
   "source": [
    "# a > b - t value outcome is to what degree the truth of this statement is\n",
    "# negative implies that a is actually < b, positive implies that a is in fact > b, in actuality it tells you \n",
    "# which 'tail' is being used"
   ]
  },
  {
   "cell_type": "markdown",
   "id": "bce62979",
   "metadata": {},
   "source": [
    "2. Load the mpg dataset and use it to answer the following questions:\n",
    "Is there a difference in fuel-efficiency in cars from 2008 vs 1999?"
   ]
  },
  {
   "cell_type": "code",
   "execution_count": 34,
   "id": "c61ea547",
   "metadata": {},
   "outputs": [],
   "source": [
    "from pydataset import data\n",
    "mpg = data('mpg') "
   ]
  },
  {
   "cell_type": "code",
   "execution_count": 60,
   "id": "07cc50b1",
   "metadata": {},
   "outputs": [],
   "source": [
    "# mpg.info()\n",
    "\n",
    "mpg['average_mileage'] = mpg[['cty', 'hwy']].mean(axis=1)\n",
    "fuel_eff_2008 = mpg[mpg.year == 2008].average_mileage\n",
    "fuel_eff_1999 = mpg[mpg.year == 1999].average_mileage"
   ]
  },
  {
   "cell_type": "code",
   "execution_count": 65,
   "id": "51c7247f",
   "metadata": {},
   "outputs": [
    {
     "data": {
      "text/plain": [
       "<AxesSubplot:>"
      ]
     },
     "execution_count": 65,
     "metadata": {},
     "output_type": "execute_result"
    },
    {
     "data": {
      "image/png": "[encoded data removed]",
      "text/plain": [
       "<Figure size 432x288 with 1 Axes>"
      ]
     },
     "metadata": {
      "needs_background": "light"
     },
     "output_type": "display_data"
    }
   ],
   "source": [
    "fuel_eff_2008.hist()"
   ]
  },
  {
   "cell_type": "code",
   "execution_count": 66,
   "id": "c47690db",
   "metadata": {},
   "outputs": [
    {
     "data": {
      "text/plain": [
       "<AxesSubplot:>"
      ]
     },
     "execution_count": 66,
     "metadata": {},
     "output_type": "execute_result"
    },
    {
     "data": {
      "image/png": "[encoded data removed]",
      "text/plain": [
       "<Figure size 432x288 with 1 Axes>"
      ]
     },
     "metadata": {
      "needs_background": "light"
     },
     "output_type": "display_data"
    }
   ],
   "source": [
    "fuel_eff_1999.hist()"
   ]
  },
  {
   "cell_type": "code",
   "execution_count": 67,
   "id": "0d751d92",
   "metadata": {},
   "outputs": [],
   "source": [
    "# H0: Fuel-efficiency for cars from 2008 == Fuel-efficiency for cars from 1999\n",
    "# HA: Fuel-efficiency for cars from 2009 != Fuel-efficiency for cars from 1999"
   ]
  },
  {
   "cell_type": "code",
   "execution_count": 61,
   "id": "7c10d0ed",
   "metadata": {},
   "outputs": [],
   "source": [
    "alpha = .05"
   ]
  },
  {
   "cell_type": "code",
   "execution_count": 69,
   "id": "d0bd43a2",
   "metadata": {},
   "outputs": [
    {
     "data": {
      "text/plain": [
       "(24.097480106100797, 27.122605363984682)"
      ]
     },
     "execution_count": 69,
     "metadata": {},
     "output_type": "execute_result"
    }
   ],
   "source": [
    "v_08 = fuel_eff_2008.var()\n",
    "v_99 = fuel_eff_1999.var()\n",
    "v_08, v_99"
   ]
  },
  {
   "cell_type": "code",
   "execution_count": 71,
   "id": "765b025b",
   "metadata": {},
   "outputs": [],
   "source": [
    "# Assumptions:\n",
    "# Independent: Yes\n",
    "# Normal distribution: Yes, based on sample size and graph curation. \n",
    "# Variance: No, they are not the same variance."
   ]
  },
  {
   "cell_type": "code",
   "execution_count": 73,
   "id": "531c9ad7",
   "metadata": {},
   "outputs": [
    {
     "name": "stdout",
     "output_type": "stream",
     "text": [
      "t:-0.21960177245940962, p:0.8263750772060638, alpha:0.05\n",
      "Do not reject null\n"
     ]
    }
   ],
   "source": [
    "t, p = stats.ttest_ind(fuel_eff_2008, fuel_eff_1999 , equal_var=False)\n",
    "\n",
    "print(f't:{t}, p:{p}, alpha:{alpha}')\n",
    "\n",
    "if t != 0 and p < alpha:\n",
    "    print('Reject null')\n",
    "else: \n",
    "    print('Do not reject null')"
   ]
  },
  {
   "cell_type": "code",
   "execution_count": 81,
   "id": "2a0f2eb5",
   "metadata": {},
   "outputs": [],
   "source": [
    "# Based on the p-value being greater than the alpha, we fail to reject the null hypothesis."
   ]
  },
  {
   "cell_type": "markdown",
   "id": "10edd114",
   "metadata": {},
   "source": [
    "Are compact cars more fuel-efficient than the average car?"
   ]
  },
  {
   "cell_type": "code",
   "execution_count": 87,
   "id": "2e5bc9b5",
   "metadata": {},
   "outputs": [
    {
     "data": {
      "text/plain": [
       "20.14957264957265"
      ]
     },
     "execution_count": 87,
     "metadata": {},
     "output_type": "execute_result"
    }
   ],
   "source": [
    "mpg.head()\n",
    "fuel_eff_compact = mpg[mpg['class'] == 'compact'].average_mileage\n",
    "avg_car_eff = mpg.average_mileage.mean()\n",
    "avg_car_eff"
   ]
  },
  {
   "cell_type": "code",
   "execution_count": 88,
   "id": "a2c3fffe",
   "metadata": {},
   "outputs": [
    {
     "data": {
      "text/plain": [
       "<AxesSubplot:>"
      ]
     },
     "execution_count": 88,
     "metadata": {},
     "output_type": "execute_result"
    },
    {
     "data": {
      "image/png": "[encoded data removed]",
      "text/plain": [
       "<Figure size 432x288 with 1 Axes>"
      ]
     },
     "metadata": {
      "needs_background": "light"
     },
     "output_type": "display_data"
    }
   ],
   "source": [
    "fuel_eff_compact.hist()"
   ]
  },
  {
   "cell_type": "code",
   "execution_count": 89,
   "id": "fd7b748d",
   "metadata": {},
   "outputs": [],
   "source": [
    "# H0: Compact car fuel-efficiency == fuel-efficiency of average car\n",
    "# HA: Compact car fuel-efficiency > fuel-efficiency of average car"
   ]
  },
  {
   "cell_type": "code",
   "execution_count": 90,
   "id": "a927fc9f",
   "metadata": {},
   "outputs": [],
   "source": [
    "alpha = .05"
   ]
  },
  {
   "cell_type": "code",
   "execution_count": 91,
   "id": "a7fda674",
   "metadata": {},
   "outputs": [
    {
     "data": {
      "text/plain": [
       "(25.50542900113715, 12.442876965772433)"
      ]
     },
     "execution_count": 91,
     "metadata": {},
     "output_type": "execute_result"
    }
   ],
   "source": [
    "avg_car_v = mpg.average_mileage.var()\n",
    "compact_v = fuel_eff_compact.var()\n",
    "avg_car_v, compact_v"
   ]
  },
  {
   "cell_type": "code",
   "execution_count": 98,
   "id": "9290448c",
   "metadata": {},
   "outputs": [],
   "source": [
    "# Assumptions:\n",
    "# Independent: Yes\n",
    "# Normal distribution: Yes, based on sample size and graph curation. \n",
    "# Variance: No, they are not the same variance."
   ]
  },
  {
   "cell_type": "code",
   "execution_count": 101,
   "id": "ad86ab6f",
   "metadata": {},
   "outputs": [
    {
     "name": "stdout",
     "output_type": "stream",
     "text": [
      "t:7.896888573132535, p:2.0992818971585668e-10, alpha:0.05\n",
      "Reject null\n"
     ]
    }
   ],
   "source": [
    "t, p = stats.ttest_1samp(fuel_eff_compact, avg_car_eff, alternative='greater')\n",
    "\n",
    "print(f't:{t}, p:{p}, alpha:{alpha}')\n",
    "\n",
    "if t > 0 and p < alpha:\n",
    "    print('Reject null')\n",
    "else: \n",
    "    print('Do not reject null')"
   ]
  },
  {
   "cell_type": "code",
   "execution_count": 99,
   "id": "443cb666",
   "metadata": {},
   "outputs": [],
   "source": [
    "# Based on the t being greater than 0 and the p-value being below the alpha, we can reject the null hypothesis. The compact car fuel-efficiency \n",
    "# is greater than fuel-efficiency of average car."
   ]
  },
  {
   "cell_type": "markdown",
   "id": "bdf99610",
   "metadata": {},
   "source": [
    "Do manual cars get better gas mileage than automatic cars?"
   ]
  },
  {
   "cell_type": "code",
   "execution_count": 122,
   "id": "e998ae76",
   "metadata": {},
   "outputs": [],
   "source": [
    "mpg['is_automatic'] = mpg.trans.str.contains('auto')\n",
    "\n",
    "fuel_eff_auto = mpg[mpg.is_automatic == True].average_mileage\n",
    "fuel_eff_man = mpg[mpg.is_automatic == False].average_mileage"
   ]
  },
  {
   "cell_type": "code",
   "execution_count": 119,
   "id": "d34437c1",
   "metadata": {},
   "outputs": [
    {
     "data": {
      "text/plain": [
       "<AxesSubplot:>"
      ]
     },
     "execution_count": 119,
     "metadata": {},
     "output_type": "execute_result"
    },
    {
     "data": {
      "image/png": "[encoded data removed]",
      "text/plain": [
       "<Figure size 432x288 with 1 Axes>"
      ]
     },
     "metadata": {
      "needs_background": "light"
     },
     "output_type": "display_data"
    }
   ],
   "source": [
    "fuel_eff_auto.hist()"
   ]
  },
  {
   "cell_type": "code",
   "execution_count": 120,
   "id": "568346be",
   "metadata": {},
   "outputs": [
    {
     "data": {
      "text/plain": [
       "<AxesSubplot:>"
      ]
     },
     "execution_count": 120,
     "metadata": {},
     "output_type": "execute_result"
    },
    {
     "data": {
      "image/png": "[encoded data removed]",
      "text/plain": [
       "<Figure size 432x288 with 1 Axes>"
      ]
     },
     "metadata": {
      "needs_background": "light"
     },
     "output_type": "display_data"
    }
   ],
   "source": [
    "fuel_eff_man.hist()"
   ]
  },
  {
   "cell_type": "code",
   "execution_count": 121,
   "id": "3449b165",
   "metadata": {},
   "outputs": [],
   "source": [
    "# H0: Manual car fuel-efficiency == Auto car fuel-efficiency\n",
    "# HA: Manual car fuel-efficiency > Auto car fuel-efficiency"
   ]
  },
  {
   "cell_type": "code",
   "execution_count": 123,
   "id": "0e051afd",
   "metadata": {},
   "outputs": [],
   "source": [
    "alpha = .05"
   ]
  },
  {
   "cell_type": "code",
   "execution_count": 125,
   "id": "234f0ac6",
   "metadata": {},
   "outputs": [
    {
     "data": {
      "text/plain": [
       "(26.635167464114826, 21.942777233382337)"
      ]
     },
     "execution_count": 125,
     "metadata": {},
     "output_type": "execute_result"
    }
   ],
   "source": [
    "man_v = fuel_eff_man.var()\n",
    "auto_v = fuel_eff_auto.var()\n",
    "man_v, auto_v"
   ]
  },
  {
   "cell_type": "code",
   "execution_count": 126,
   "id": "886b5eff",
   "metadata": {},
   "outputs": [],
   "source": [
    "# Assumptions:\n",
    "# Independent: Yes\n",
    "# Normal distribution: Yes, based on sample size and graph curation. \n",
    "# Variance: No, they are not the same variance."
   ]
  },
  {
   "cell_type": "code",
   "execution_count": 128,
   "id": "0a7ddaa3",
   "metadata": {},
   "outputs": [
    {
     "name": "stdout",
     "output_type": "stream",
     "text": [
      "t:4.443514012903071, p:8.976124499958965e-06, alpha:0.05\n",
      "Reject null\n"
     ]
    }
   ],
   "source": [
    "t, p = stats.ttest_ind(fuel_eff_man,fuel_eff_auto , equal_var=False, alternative='greater')\n",
    "\n",
    "print(f't:{t}, p:{p}, alpha:{alpha}')\n",
    "\n",
    "if t > 0 and p < alpha:\n",
    "    print('Reject null')\n",
    "else: \n",
    "    print('Do not reject null')"
   ]
  },
  {
   "cell_type": "code",
   "execution_count": 129,
   "id": "6db946f8",
   "metadata": {},
   "outputs": [],
   "source": [
    "# Based on the t being greater than 0 and the p-value being less than alpha we can reject the null hypothesis.\n",
    "# Thus, the manual car fuel-efficiency is greater than the auto car fuel-efficiency."
   ]
  },
  {
   "cell_type": "code",
   "execution_count": 1,
   "id": "e2e5095b",
   "metadata": {},
   "outputs": [],
   "source": [
    "# Correlation Exercises"
   ]
  },
  {
   "cell_type": "markdown",
   "id": "fc19550b",
   "metadata": {},
   "source": [
    "Use the telco_churn data. Does tenure correlate with monthly charges? Total charges? What happens if you control for phone and internet service?"
   ]
  },
  {
   "cell_type": "code",
   "execution_count": 5,
   "id": "d0187fc0",
   "metadata": {},
   "outputs": [],
   "source": [
    "import pandas as pd\n",
    "import numpy as np\n",
    "import matplotlib.pyplot as plt\n",
    "import seaborn as sns\n",
    "\n",
    "from math import sqrt\n",
    "\n",
    "from scipy import stats\n",
    "from pydataset import data"
   ]
  },
  {
   "cell_type": "code",
   "execution_count": 8,
   "id": "7fd21683",
   "metadata": {},
   "outputs": [],
   "source": [
    "telco_churn = pd.read_csv(\"Cust_Churn_Telco.csv\")"
   ]
  },
  {
   "cell_type": "code",
   "execution_count": 10,
   "id": "9cc176ae",
   "metadata": {},
   "outputs": [],
   "source": [
    "# Above is with Cust_Churn_Telco.csv residing in same folder as notebook"
   ]
  },
  {
   "cell_type": "code",
   "execution_count": 43,
   "id": "649e9c24",
   "metadata": {},
   "outputs": [
    {
     "data": {
      "text/html": [
       "<div>\n",
       "<style scoped>\n",
       "    .dataframe tbody tr th:only-of-type {\n",
       "        vertical-align: middle;\n",
       "    }\n",
       "\n",
       "    .dataframe tbody tr th {\n",
       "        vertical-align: top;\n",
       "    }\n",
       "\n",
       "    .dataframe thead th {\n",
       "        text-align: right;\n",
       "    }\n",
       "</style>\n",
       "<table border=\"1\" class=\"dataframe\">\n",
       "  <thead>\n",
       "    <tr style=\"text-align: right;\">\n",
       "      <th></th>\n",
       "      <th>customerID</th>\n",
       "      <th>gender</th>\n",
       "      <th>SeniorCitizen</th>\n",
       "      <th>Partner</th>\n",
       "      <th>Dependents</th>\n",
       "      <th>tenure</th>\n",
       "      <th>PhoneService</th>\n",
       "      <th>MultipleLines</th>\n",
       "      <th>InternetService</th>\n",
       "      <th>OnlineSecurity</th>\n",
       "      <th>...</th>\n",
       "      <th>DeviceProtection</th>\n",
       "      <th>TechSupport</th>\n",
       "      <th>StreamingTV</th>\n",
       "      <th>StreamingMovies</th>\n",
       "      <th>Contract</th>\n",
       "      <th>PaperlessBilling</th>\n",
       "      <th>PaymentMethod</th>\n",
       "      <th>MonthlyCharges</th>\n",
       "      <th>TotalCharges</th>\n",
       "      <th>Churn</th>\n",
       "    </tr>\n",
       "  </thead>\n",
       "  <tbody>\n",
       "    <tr>\n",
       "      <th>0</th>\n",
       "      <td>7590-VHVEG</td>\n",
       "      <td>Female</td>\n",
       "      <td>0</td>\n",
       "      <td>Yes</td>\n",
       "      <td>No</td>\n",
       "      <td>1</td>\n",
       "      <td>No</td>\n",
       "      <td>No phone service</td>\n",
       "      <td>DSL</td>\n",
       "      <td>No</td>\n",
       "      <td>...</td>\n",
       "      <td>No</td>\n",
       "      <td>No</td>\n",
       "      <td>No</td>\n",
       "      <td>No</td>\n",
       "      <td>Month-to-month</td>\n",
       "      <td>Yes</td>\n",
       "      <td>Electronic check</td>\n",
       "      <td>29.85</td>\n",
       "      <td>29.85</td>\n",
       "      <td>No</td>\n",
       "    </tr>\n",
       "    <tr>\n",
       "      <th>1</th>\n",
       "      <td>5575-GNVDE</td>\n",
       "      <td>Male</td>\n",
       "      <td>0</td>\n",
       "      <td>No</td>\n",
       "      <td>No</td>\n",
       "      <td>34</td>\n",
       "      <td>Yes</td>\n",
       "      <td>No</td>\n",
       "      <td>DSL</td>\n",
       "      <td>Yes</td>\n",
       "      <td>...</td>\n",
       "      <td>Yes</td>\n",
       "      <td>No</td>\n",
       "      <td>No</td>\n",
       "      <td>No</td>\n",
       "      <td>One year</td>\n",
       "      <td>No</td>\n",
       "      <td>Mailed check</td>\n",
       "      <td>56.95</td>\n",
       "      <td>1889.50</td>\n",
       "      <td>No</td>\n",
       "    </tr>\n",
       "    <tr>\n",
       "      <th>2</th>\n",
       "      <td>3668-QPYBK</td>\n",
       "      <td>Male</td>\n",
       "      <td>0</td>\n",
       "      <td>No</td>\n",
       "      <td>No</td>\n",
       "      <td>2</td>\n",
       "      <td>Yes</td>\n",
       "      <td>No</td>\n",
       "      <td>DSL</td>\n",
       "      <td>Yes</td>\n",
       "      <td>...</td>\n",
       "      <td>No</td>\n",
       "      <td>No</td>\n",
       "      <td>No</td>\n",
       "      <td>No</td>\n",
       "      <td>Month-to-month</td>\n",
       "      <td>Yes</td>\n",
       "      <td>Mailed check</td>\n",
       "      <td>53.85</td>\n",
       "      <td>108.15</td>\n",
       "      <td>Yes</td>\n",
       "    </tr>\n",
       "    <tr>\n",
       "      <th>3</th>\n",
       "      <td>7795-CFOCW</td>\n",
       "      <td>Male</td>\n",
       "      <td>0</td>\n",
       "      <td>No</td>\n",
       "      <td>No</td>\n",
       "      <td>45</td>\n",
       "      <td>No</td>\n",
       "      <td>No phone service</td>\n",
       "      <td>DSL</td>\n",
       "      <td>Yes</td>\n",
       "      <td>...</td>\n",
       "      <td>Yes</td>\n",
       "      <td>Yes</td>\n",
       "      <td>No</td>\n",
       "      <td>No</td>\n",
       "      <td>One year</td>\n",
       "      <td>No</td>\n",
       "      <td>Bank transfer (automatic)</td>\n",
       "      <td>42.30</td>\n",
       "      <td>1840.75</td>\n",
       "      <td>No</td>\n",
       "    </tr>\n",
       "    <tr>\n",
       "      <th>4</th>\n",
       "      <td>9237-HQITU</td>\n",
       "      <td>Female</td>\n",
       "      <td>0</td>\n",
       "      <td>No</td>\n",
       "      <td>No</td>\n",
       "      <td>2</td>\n",
       "      <td>Yes</td>\n",
       "      <td>No</td>\n",
       "      <td>Fiber optic</td>\n",
       "      <td>No</td>\n",
       "      <td>...</td>\n",
       "      <td>No</td>\n",
       "      <td>No</td>\n",
       "      <td>No</td>\n",
       "      <td>No</td>\n",
       "      <td>Month-to-month</td>\n",
       "      <td>Yes</td>\n",
       "      <td>Electronic check</td>\n",
       "      <td>70.70</td>\n",
       "      <td>151.65</td>\n",
       "      <td>Yes</td>\n",
       "    </tr>\n",
       "    <tr>\n",
       "      <th>5</th>\n",
       "      <td>9305-CDSKC</td>\n",
       "      <td>Female</td>\n",
       "      <td>0</td>\n",
       "      <td>No</td>\n",
       "      <td>No</td>\n",
       "      <td>8</td>\n",
       "      <td>Yes</td>\n",
       "      <td>Yes</td>\n",
       "      <td>Fiber optic</td>\n",
       "      <td>No</td>\n",
       "      <td>...</td>\n",
       "      <td>Yes</td>\n",
       "      <td>No</td>\n",
       "      <td>Yes</td>\n",
       "      <td>Yes</td>\n",
       "      <td>Month-to-month</td>\n",
       "      <td>Yes</td>\n",
       "      <td>Electronic check</td>\n",
       "      <td>99.65</td>\n",
       "      <td>820.50</td>\n",
       "      <td>Yes</td>\n",
       "    </tr>\n",
       "    <tr>\n",
       "      <th>6</th>\n",
       "      <td>1452-KIOVK</td>\n",
       "      <td>Male</td>\n",
       "      <td>0</td>\n",
       "      <td>No</td>\n",
       "      <td>Yes</td>\n",
       "      <td>22</td>\n",
       "      <td>Yes</td>\n",
       "      <td>Yes</td>\n",
       "      <td>Fiber optic</td>\n",
       "      <td>No</td>\n",
       "      <td>...</td>\n",
       "      <td>No</td>\n",
       "      <td>No</td>\n",
       "      <td>Yes</td>\n",
       "      <td>No</td>\n",
       "      <td>Month-to-month</td>\n",
       "      <td>Yes</td>\n",
       "      <td>Credit card (automatic)</td>\n",
       "      <td>89.10</td>\n",
       "      <td>1949.40</td>\n",
       "      <td>No</td>\n",
       "    </tr>\n",
       "    <tr>\n",
       "      <th>7</th>\n",
       "      <td>6713-OKOMC</td>\n",
       "      <td>Female</td>\n",
       "      <td>0</td>\n",
       "      <td>No</td>\n",
       "      <td>No</td>\n",
       "      <td>10</td>\n",
       "      <td>No</td>\n",
       "      <td>No phone service</td>\n",
       "      <td>DSL</td>\n",
       "      <td>Yes</td>\n",
       "      <td>...</td>\n",
       "      <td>No</td>\n",
       "      <td>No</td>\n",
       "      <td>No</td>\n",
       "      <td>No</td>\n",
       "      <td>Month-to-month</td>\n",
       "      <td>No</td>\n",
       "      <td>Mailed check</td>\n",
       "      <td>29.75</td>\n",
       "      <td>301.90</td>\n",
       "      <td>No</td>\n",
       "    </tr>\n",
       "    <tr>\n",
       "      <th>8</th>\n",
       "      <td>7892-POOKP</td>\n",
       "      <td>Female</td>\n",
       "      <td>0</td>\n",
       "      <td>Yes</td>\n",
       "      <td>No</td>\n",
       "      <td>28</td>\n",
       "      <td>Yes</td>\n",
       "      <td>Yes</td>\n",
       "      <td>Fiber optic</td>\n",
       "      <td>No</td>\n",
       "      <td>...</td>\n",
       "      <td>Yes</td>\n",
       "      <td>Yes</td>\n",
       "      <td>Yes</td>\n",
       "      <td>Yes</td>\n",
       "      <td>Month-to-month</td>\n",
       "      <td>Yes</td>\n",
       "      <td>Electronic check</td>\n",
       "      <td>104.80</td>\n",
       "      <td>3046.05</td>\n",
       "      <td>Yes</td>\n",
       "    </tr>\n",
       "    <tr>\n",
       "      <th>9</th>\n",
       "      <td>6388-TABGU</td>\n",
       "      <td>Male</td>\n",
       "      <td>0</td>\n",
       "      <td>No</td>\n",
       "      <td>Yes</td>\n",
       "      <td>62</td>\n",
       "      <td>Yes</td>\n",
       "      <td>No</td>\n",
       "      <td>DSL</td>\n",
       "      <td>Yes</td>\n",
       "      <td>...</td>\n",
       "      <td>No</td>\n",
       "      <td>No</td>\n",
       "      <td>No</td>\n",
       "      <td>No</td>\n",
       "      <td>One year</td>\n",
       "      <td>No</td>\n",
       "      <td>Bank transfer (automatic)</td>\n",
       "      <td>56.15</td>\n",
       "      <td>3487.95</td>\n",
       "      <td>No</td>\n",
       "    </tr>\n",
       "    <tr>\n",
       "      <th>10</th>\n",
       "      <td>9763-GRSKD</td>\n",
       "      <td>Male</td>\n",
       "      <td>0</td>\n",
       "      <td>Yes</td>\n",
       "      <td>Yes</td>\n",
       "      <td>13</td>\n",
       "      <td>Yes</td>\n",
       "      <td>No</td>\n",
       "      <td>DSL</td>\n",
       "      <td>Yes</td>\n",
       "      <td>...</td>\n",
       "      <td>No</td>\n",
       "      <td>No</td>\n",
       "      <td>No</td>\n",
       "      <td>No</td>\n",
       "      <td>Month-to-month</td>\n",
       "      <td>Yes</td>\n",
       "      <td>Mailed check</td>\n",
       "      <td>49.95</td>\n",
       "      <td>587.45</td>\n",
       "      <td>No</td>\n",
       "    </tr>\n",
       "    <tr>\n",
       "      <th>11</th>\n",
       "      <td>7469-LKBCI</td>\n",
       "      <td>Male</td>\n",
       "      <td>0</td>\n",
       "      <td>No</td>\n",
       "      <td>No</td>\n",
       "      <td>16</td>\n",
       "      <td>Yes</td>\n",
       "      <td>No</td>\n",
       "      <td>No</td>\n",
       "      <td>No internet service</td>\n",
       "      <td>...</td>\n",
       "      <td>No internet service</td>\n",
       "      <td>No internet service</td>\n",
       "      <td>No internet service</td>\n",
       "      <td>No internet service</td>\n",
       "      <td>Two year</td>\n",
       "      <td>No</td>\n",
       "      <td>Credit card (automatic)</td>\n",
       "      <td>18.95</td>\n",
       "      <td>326.80</td>\n",
       "      <td>No</td>\n",
       "    </tr>\n",
       "    <tr>\n",
       "      <th>12</th>\n",
       "      <td>8091-TTVAX</td>\n",
       "      <td>Male</td>\n",
       "      <td>0</td>\n",
       "      <td>Yes</td>\n",
       "      <td>No</td>\n",
       "      <td>58</td>\n",
       "      <td>Yes</td>\n",
       "      <td>Yes</td>\n",
       "      <td>Fiber optic</td>\n",
       "      <td>No</td>\n",
       "      <td>...</td>\n",
       "      <td>Yes</td>\n",
       "      <td>No</td>\n",
       "      <td>Yes</td>\n",
       "      <td>Yes</td>\n",
       "      <td>One year</td>\n",
       "      <td>No</td>\n",
       "      <td>Credit card (automatic)</td>\n",
       "      <td>100.35</td>\n",
       "      <td>5681.10</td>\n",
       "      <td>No</td>\n",
       "    </tr>\n",
       "    <tr>\n",
       "      <th>13</th>\n",
       "      <td>0280-XJGEX</td>\n",
       "      <td>Male</td>\n",
       "      <td>0</td>\n",
       "      <td>No</td>\n",
       "      <td>No</td>\n",
       "      <td>49</td>\n",
       "      <td>Yes</td>\n",
       "      <td>Yes</td>\n",
       "      <td>Fiber optic</td>\n",
       "      <td>No</td>\n",
       "      <td>...</td>\n",
       "      <td>Yes</td>\n",
       "      <td>No</td>\n",
       "      <td>Yes</td>\n",
       "      <td>Yes</td>\n",
       "      <td>Month-to-month</td>\n",
       "      <td>Yes</td>\n",
       "      <td>Bank transfer (automatic)</td>\n",
       "      <td>103.70</td>\n",
       "      <td>5036.30</td>\n",
       "      <td>Yes</td>\n",
       "    </tr>\n",
       "    <tr>\n",
       "      <th>14</th>\n",
       "      <td>5129-JLPIS</td>\n",
       "      <td>Male</td>\n",
       "      <td>0</td>\n",
       "      <td>No</td>\n",
       "      <td>No</td>\n",
       "      <td>25</td>\n",
       "      <td>Yes</td>\n",
       "      <td>No</td>\n",
       "      <td>Fiber optic</td>\n",
       "      <td>Yes</td>\n",
       "      <td>...</td>\n",
       "      <td>Yes</td>\n",
       "      <td>Yes</td>\n",
       "      <td>Yes</td>\n",
       "      <td>Yes</td>\n",
       "      <td>Month-to-month</td>\n",
       "      <td>Yes</td>\n",
       "      <td>Electronic check</td>\n",
       "      <td>105.50</td>\n",
       "      <td>2686.05</td>\n",
       "      <td>No</td>\n",
       "    </tr>\n",
       "    <tr>\n",
       "      <th>15</th>\n",
       "      <td>3655-SNQYZ</td>\n",
       "      <td>Female</td>\n",
       "      <td>0</td>\n",
       "      <td>Yes</td>\n",
       "      <td>Yes</td>\n",
       "      <td>69</td>\n",
       "      <td>Yes</td>\n",
       "      <td>Yes</td>\n",
       "      <td>Fiber optic</td>\n",
       "      <td>Yes</td>\n",
       "      <td>...</td>\n",
       "      <td>Yes</td>\n",
       "      <td>Yes</td>\n",
       "      <td>Yes</td>\n",
       "      <td>Yes</td>\n",
       "      <td>Two year</td>\n",
       "      <td>No</td>\n",
       "      <td>Credit card (automatic)</td>\n",
       "      <td>113.25</td>\n",
       "      <td>7895.15</td>\n",
       "      <td>No</td>\n",
       "    </tr>\n",
       "    <tr>\n",
       "      <th>16</th>\n",
       "      <td>8191-XWSZG</td>\n",
       "      <td>Female</td>\n",
       "      <td>0</td>\n",
       "      <td>No</td>\n",
       "      <td>No</td>\n",
       "      <td>52</td>\n",
       "      <td>Yes</td>\n",
       "      <td>No</td>\n",
       "      <td>No</td>\n",
       "      <td>No internet service</td>\n",
       "      <td>...</td>\n",
       "      <td>No internet service</td>\n",
       "      <td>No internet service</td>\n",
       "      <td>No internet service</td>\n",
       "      <td>No internet service</td>\n",
       "      <td>One year</td>\n",
       "      <td>No</td>\n",
       "      <td>Mailed check</td>\n",
       "      <td>20.65</td>\n",
       "      <td>1022.95</td>\n",
       "      <td>No</td>\n",
       "    </tr>\n",
       "    <tr>\n",
       "      <th>17</th>\n",
       "      <td>9959-WOFKT</td>\n",
       "      <td>Male</td>\n",
       "      <td>0</td>\n",
       "      <td>No</td>\n",
       "      <td>Yes</td>\n",
       "      <td>71</td>\n",
       "      <td>Yes</td>\n",
       "      <td>Yes</td>\n",
       "      <td>Fiber optic</td>\n",
       "      <td>Yes</td>\n",
       "      <td>...</td>\n",
       "      <td>Yes</td>\n",
       "      <td>No</td>\n",
       "      <td>Yes</td>\n",
       "      <td>Yes</td>\n",
       "      <td>Two year</td>\n",
       "      <td>No</td>\n",
       "      <td>Bank transfer (automatic)</td>\n",
       "      <td>106.70</td>\n",
       "      <td>7382.25</td>\n",
       "      <td>No</td>\n",
       "    </tr>\n",
       "    <tr>\n",
       "      <th>18</th>\n",
       "      <td>4190-MFLUW</td>\n",
       "      <td>Female</td>\n",
       "      <td>0</td>\n",
       "      <td>Yes</td>\n",
       "      <td>Yes</td>\n",
       "      <td>10</td>\n",
       "      <td>Yes</td>\n",
       "      <td>No</td>\n",
       "      <td>DSL</td>\n",
       "      <td>No</td>\n",
       "      <td>...</td>\n",
       "      <td>Yes</td>\n",
       "      <td>Yes</td>\n",
       "      <td>No</td>\n",
       "      <td>No</td>\n",
       "      <td>Month-to-month</td>\n",
       "      <td>No</td>\n",
       "      <td>Credit card (automatic)</td>\n",
       "      <td>55.20</td>\n",
       "      <td>528.35</td>\n",
       "      <td>Yes</td>\n",
       "    </tr>\n",
       "    <tr>\n",
       "      <th>19</th>\n",
       "      <td>4183-MYFRB</td>\n",
       "      <td>Female</td>\n",
       "      <td>0</td>\n",
       "      <td>No</td>\n",
       "      <td>No</td>\n",
       "      <td>21</td>\n",
       "      <td>Yes</td>\n",
       "      <td>No</td>\n",
       "      <td>Fiber optic</td>\n",
       "      <td>No</td>\n",
       "      <td>...</td>\n",
       "      <td>Yes</td>\n",
       "      <td>No</td>\n",
       "      <td>No</td>\n",
       "      <td>Yes</td>\n",
       "      <td>Month-to-month</td>\n",
       "      <td>Yes</td>\n",
       "      <td>Electronic check</td>\n",
       "      <td>90.05</td>\n",
       "      <td>1862.90</td>\n",
       "      <td>No</td>\n",
       "    </tr>\n",
       "    <tr>\n",
       "      <th>20</th>\n",
       "      <td>8779-QRDMV</td>\n",
       "      <td>Male</td>\n",
       "      <td>1</td>\n",
       "      <td>No</td>\n",
       "      <td>No</td>\n",
       "      <td>1</td>\n",
       "      <td>No</td>\n",
       "      <td>No phone service</td>\n",
       "      <td>DSL</td>\n",
       "      <td>No</td>\n",
       "      <td>...</td>\n",
       "      <td>Yes</td>\n",
       "      <td>No</td>\n",
       "      <td>No</td>\n",
       "      <td>Yes</td>\n",
       "      <td>Month-to-month</td>\n",
       "      <td>Yes</td>\n",
       "      <td>Electronic check</td>\n",
       "      <td>39.65</td>\n",
       "      <td>39.65</td>\n",
       "      <td>Yes</td>\n",
       "    </tr>\n",
       "    <tr>\n",
       "      <th>21</th>\n",
       "      <td>1680-VDCWW</td>\n",
       "      <td>Male</td>\n",
       "      <td>0</td>\n",
       "      <td>Yes</td>\n",
       "      <td>No</td>\n",
       "      <td>12</td>\n",
       "      <td>Yes</td>\n",
       "      <td>No</td>\n",
       "      <td>No</td>\n",
       "      <td>No internet service</td>\n",
       "      <td>...</td>\n",
       "      <td>No internet service</td>\n",
       "      <td>No internet service</td>\n",
       "      <td>No internet service</td>\n",
       "      <td>No internet service</td>\n",
       "      <td>One year</td>\n",
       "      <td>No</td>\n",
       "      <td>Bank transfer (automatic)</td>\n",
       "      <td>19.80</td>\n",
       "      <td>202.25</td>\n",
       "      <td>No</td>\n",
       "    </tr>\n",
       "    <tr>\n",
       "      <th>22</th>\n",
       "      <td>1066-JKSGK</td>\n",
       "      <td>Male</td>\n",
       "      <td>0</td>\n",
       "      <td>No</td>\n",
       "      <td>No</td>\n",
       "      <td>1</td>\n",
       "      <td>Yes</td>\n",
       "      <td>No</td>\n",
       "      <td>No</td>\n",
       "      <td>No internet service</td>\n",
       "      <td>...</td>\n",
       "      <td>No internet service</td>\n",
       "      <td>No internet service</td>\n",
       "      <td>No internet service</td>\n",
       "      <td>No internet service</td>\n",
       "      <td>Month-to-month</td>\n",
       "      <td>No</td>\n",
       "      <td>Mailed check</td>\n",
       "      <td>20.15</td>\n",
       "      <td>20.15</td>\n",
       "      <td>Yes</td>\n",
       "    </tr>\n",
       "    <tr>\n",
       "      <th>23</th>\n",
       "      <td>3638-WEABW</td>\n",
       "      <td>Female</td>\n",
       "      <td>0</td>\n",
       "      <td>Yes</td>\n",
       "      <td>No</td>\n",
       "      <td>58</td>\n",
       "      <td>Yes</td>\n",
       "      <td>Yes</td>\n",
       "      <td>DSL</td>\n",
       "      <td>No</td>\n",
       "      <td>...</td>\n",
       "      <td>No</td>\n",
       "      <td>Yes</td>\n",
       "      <td>No</td>\n",
       "      <td>No</td>\n",
       "      <td>Two year</td>\n",
       "      <td>Yes</td>\n",
       "      <td>Credit card (automatic)</td>\n",
       "      <td>59.90</td>\n",
       "      <td>3505.10</td>\n",
       "      <td>No</td>\n",
       "    </tr>\n",
       "    <tr>\n",
       "      <th>24</th>\n",
       "      <td>6322-HRPFA</td>\n",
       "      <td>Male</td>\n",
       "      <td>0</td>\n",
       "      <td>Yes</td>\n",
       "      <td>Yes</td>\n",
       "      <td>49</td>\n",
       "      <td>Yes</td>\n",
       "      <td>No</td>\n",
       "      <td>DSL</td>\n",
       "      <td>Yes</td>\n",
       "      <td>...</td>\n",
       "      <td>No</td>\n",
       "      <td>Yes</td>\n",
       "      <td>No</td>\n",
       "      <td>No</td>\n",
       "      <td>Month-to-month</td>\n",
       "      <td>No</td>\n",
       "      <td>Credit card (automatic)</td>\n",
       "      <td>59.60</td>\n",
       "      <td>2970.30</td>\n",
       "      <td>No</td>\n",
       "    </tr>\n",
       "    <tr>\n",
       "      <th>25</th>\n",
       "      <td>6865-JZNKO</td>\n",
       "      <td>Female</td>\n",
       "      <td>0</td>\n",
       "      <td>No</td>\n",
       "      <td>No</td>\n",
       "      <td>30</td>\n",
       "      <td>Yes</td>\n",
       "      <td>No</td>\n",
       "      <td>DSL</td>\n",
       "      <td>Yes</td>\n",
       "      <td>...</td>\n",
       "      <td>No</td>\n",
       "      <td>No</td>\n",
       "      <td>No</td>\n",
       "      <td>No</td>\n",
       "      <td>Month-to-month</td>\n",
       "      <td>Yes</td>\n",
       "      <td>Bank transfer (automatic)</td>\n",
       "      <td>55.30</td>\n",
       "      <td>1530.60</td>\n",
       "      <td>No</td>\n",
       "    </tr>\n",
       "    <tr>\n",
       "      <th>26</th>\n",
       "      <td>6467-CHFZW</td>\n",
       "      <td>Male</td>\n",
       "      <td>0</td>\n",
       "      <td>Yes</td>\n",
       "      <td>Yes</td>\n",
       "      <td>47</td>\n",
       "      <td>Yes</td>\n",
       "      <td>Yes</td>\n",
       "      <td>Fiber optic</td>\n",
       "      <td>No</td>\n",
       "      <td>...</td>\n",
       "      <td>No</td>\n",
       "      <td>No</td>\n",
       "      <td>Yes</td>\n",
       "      <td>Yes</td>\n",
       "      <td>Month-to-month</td>\n",
       "      <td>Yes</td>\n",
       "      <td>Electronic check</td>\n",
       "      <td>99.35</td>\n",
       "      <td>4749.15</td>\n",
       "      <td>Yes</td>\n",
       "    </tr>\n",
       "    <tr>\n",
       "      <th>27</th>\n",
       "      <td>8665-UTDHZ</td>\n",
       "      <td>Male</td>\n",
       "      <td>0</td>\n",
       "      <td>Yes</td>\n",
       "      <td>Yes</td>\n",
       "      <td>1</td>\n",
       "      <td>No</td>\n",
       "      <td>No phone service</td>\n",
       "      <td>DSL</td>\n",
       "      <td>No</td>\n",
       "      <td>...</td>\n",
       "      <td>No</td>\n",
       "      <td>No</td>\n",
       "      <td>No</td>\n",
       "      <td>No</td>\n",
       "      <td>Month-to-month</td>\n",
       "      <td>No</td>\n",
       "      <td>Electronic check</td>\n",
       "      <td>30.20</td>\n",
       "      <td>30.20</td>\n",
       "      <td>Yes</td>\n",
       "    </tr>\n",
       "    <tr>\n",
       "      <th>28</th>\n",
       "      <td>5248-YGIJN</td>\n",
       "      <td>Male</td>\n",
       "      <td>0</td>\n",
       "      <td>Yes</td>\n",
       "      <td>No</td>\n",
       "      <td>72</td>\n",
       "      <td>Yes</td>\n",
       "      <td>Yes</td>\n",
       "      <td>DSL</td>\n",
       "      <td>Yes</td>\n",
       "      <td>...</td>\n",
       "      <td>Yes</td>\n",
       "      <td>Yes</td>\n",
       "      <td>Yes</td>\n",
       "      <td>Yes</td>\n",
       "      <td>Two year</td>\n",
       "      <td>Yes</td>\n",
       "      <td>Credit card (automatic)</td>\n",
       "      <td>90.25</td>\n",
       "      <td>6369.45</td>\n",
       "      <td>No</td>\n",
       "    </tr>\n",
       "    <tr>\n",
       "      <th>29</th>\n",
       "      <td>8773-HHUOZ</td>\n",
       "      <td>Female</td>\n",
       "      <td>0</td>\n",
       "      <td>No</td>\n",
       "      <td>Yes</td>\n",
       "      <td>17</td>\n",
       "      <td>Yes</td>\n",
       "      <td>No</td>\n",
       "      <td>DSL</td>\n",
       "      <td>No</td>\n",
       "      <td>...</td>\n",
       "      <td>No</td>\n",
       "      <td>No</td>\n",
       "      <td>Yes</td>\n",
       "      <td>Yes</td>\n",
       "      <td>Month-to-month</td>\n",
       "      <td>Yes</td>\n",
       "      <td>Mailed check</td>\n",
       "      <td>64.70</td>\n",
       "      <td>1093.10</td>\n",
       "      <td>Yes</td>\n",
       "    </tr>\n",
       "    <tr>\n",
       "      <th>30</th>\n",
       "      <td>3841-NFECX</td>\n",
       "      <td>Female</td>\n",
       "      <td>1</td>\n",
       "      <td>Yes</td>\n",
       "      <td>No</td>\n",
       "      <td>71</td>\n",
       "      <td>Yes</td>\n",
       "      <td>Yes</td>\n",
       "      <td>Fiber optic</td>\n",
       "      <td>Yes</td>\n",
       "      <td>...</td>\n",
       "      <td>Yes</td>\n",
       "      <td>Yes</td>\n",
       "      <td>No</td>\n",
       "      <td>No</td>\n",
       "      <td>Two year</td>\n",
       "      <td>Yes</td>\n",
       "      <td>Credit card (automatic)</td>\n",
       "      <td>96.35</td>\n",
       "      <td>6766.95</td>\n",
       "      <td>No</td>\n",
       "    </tr>\n",
       "    <tr>\n",
       "      <th>31</th>\n",
       "      <td>4929-XIHVW</td>\n",
       "      <td>Male</td>\n",
       "      <td>1</td>\n",
       "      <td>Yes</td>\n",
       "      <td>No</td>\n",
       "      <td>2</td>\n",
       "      <td>Yes</td>\n",
       "      <td>No</td>\n",
       "      <td>Fiber optic</td>\n",
       "      <td>No</td>\n",
       "      <td>...</td>\n",
       "      <td>Yes</td>\n",
       "      <td>No</td>\n",
       "      <td>Yes</td>\n",
       "      <td>Yes</td>\n",
       "      <td>Month-to-month</td>\n",
       "      <td>Yes</td>\n",
       "      <td>Credit card (automatic)</td>\n",
       "      <td>95.50</td>\n",
       "      <td>181.65</td>\n",
       "      <td>No</td>\n",
       "    </tr>\n",
       "    <tr>\n",
       "      <th>32</th>\n",
       "      <td>6827-IEAUQ</td>\n",
       "      <td>Female</td>\n",
       "      <td>0</td>\n",
       "      <td>Yes</td>\n",
       "      <td>Yes</td>\n",
       "      <td>27</td>\n",
       "      <td>Yes</td>\n",
       "      <td>No</td>\n",
       "      <td>DSL</td>\n",
       "      <td>Yes</td>\n",
       "      <td>...</td>\n",
       "      <td>Yes</td>\n",
       "      <td>Yes</td>\n",
       "      <td>No</td>\n",
       "      <td>No</td>\n",
       "      <td>One year</td>\n",
       "      <td>No</td>\n",
       "      <td>Mailed check</td>\n",
       "      <td>66.15</td>\n",
       "      <td>1874.45</td>\n",
       "      <td>No</td>\n",
       "    </tr>\n",
       "    <tr>\n",
       "      <th>33</th>\n",
       "      <td>7310-EGVHZ</td>\n",
       "      <td>Male</td>\n",
       "      <td>0</td>\n",
       "      <td>No</td>\n",
       "      <td>No</td>\n",
       "      <td>1</td>\n",
       "      <td>Yes</td>\n",
       "      <td>No</td>\n",
       "      <td>No</td>\n",
       "      <td>No internet service</td>\n",
       "      <td>...</td>\n",
       "      <td>No internet service</td>\n",
       "      <td>No internet service</td>\n",
       "      <td>No internet service</td>\n",
       "      <td>No internet service</td>\n",
       "      <td>Month-to-month</td>\n",
       "      <td>No</td>\n",
       "      <td>Bank transfer (automatic)</td>\n",
       "      <td>20.20</td>\n",
       "      <td>20.20</td>\n",
       "      <td>No</td>\n",
       "    </tr>\n",
       "    <tr>\n",
       "      <th>34</th>\n",
       "      <td>3413-BMNZE</td>\n",
       "      <td>Male</td>\n",
       "      <td>1</td>\n",
       "      <td>No</td>\n",
       "      <td>No</td>\n",
       "      <td>1</td>\n",
       "      <td>Yes</td>\n",
       "      <td>No</td>\n",
       "      <td>DSL</td>\n",
       "      <td>No</td>\n",
       "      <td>...</td>\n",
       "      <td>No</td>\n",
       "      <td>No</td>\n",
       "      <td>No</td>\n",
       "      <td>No</td>\n",
       "      <td>Month-to-month</td>\n",
       "      <td>No</td>\n",
       "      <td>Bank transfer (automatic)</td>\n",
       "      <td>45.25</td>\n",
       "      <td>45.25</td>\n",
       "      <td>No</td>\n",
       "    </tr>\n",
       "    <tr>\n",
       "      <th>35</th>\n",
       "      <td>6234-RAAPL</td>\n",
       "      <td>Female</td>\n",
       "      <td>0</td>\n",
       "      <td>Yes</td>\n",
       "      <td>Yes</td>\n",
       "      <td>72</td>\n",
       "      <td>Yes</td>\n",
       "      <td>Yes</td>\n",
       "      <td>Fiber optic</td>\n",
       "      <td>Yes</td>\n",
       "      <td>...</td>\n",
       "      <td>No</td>\n",
       "      <td>Yes</td>\n",
       "      <td>Yes</td>\n",
       "      <td>No</td>\n",
       "      <td>Two year</td>\n",
       "      <td>No</td>\n",
       "      <td>Bank transfer (automatic)</td>\n",
       "      <td>99.90</td>\n",
       "      <td>7251.70</td>\n",
       "      <td>No</td>\n",
       "    </tr>\n",
       "    <tr>\n",
       "      <th>36</th>\n",
       "      <td>6047-YHPVI</td>\n",
       "      <td>Male</td>\n",
       "      <td>0</td>\n",
       "      <td>No</td>\n",
       "      <td>No</td>\n",
       "      <td>5</td>\n",
       "      <td>Yes</td>\n",
       "      <td>No</td>\n",
       "      <td>Fiber optic</td>\n",
       "      <td>No</td>\n",
       "      <td>...</td>\n",
       "      <td>No</td>\n",
       "      <td>No</td>\n",
       "      <td>No</td>\n",
       "      <td>No</td>\n",
       "      <td>Month-to-month</td>\n",
       "      <td>Yes</td>\n",
       "      <td>Electronic check</td>\n",
       "      <td>69.70</td>\n",
       "      <td>316.90</td>\n",
       "      <td>Yes</td>\n",
       "    </tr>\n",
       "    <tr>\n",
       "      <th>37</th>\n",
       "      <td>6572-ADKRS</td>\n",
       "      <td>Female</td>\n",
       "      <td>0</td>\n",
       "      <td>No</td>\n",
       "      <td>No</td>\n",
       "      <td>46</td>\n",
       "      <td>Yes</td>\n",
       "      <td>No</td>\n",
       "      <td>Fiber optic</td>\n",
       "      <td>No</td>\n",
       "      <td>...</td>\n",
       "      <td>Yes</td>\n",
       "      <td>No</td>\n",
       "      <td>No</td>\n",
       "      <td>No</td>\n",
       "      <td>Month-to-month</td>\n",
       "      <td>Yes</td>\n",
       "      <td>Credit card (automatic)</td>\n",
       "      <td>74.80</td>\n",
       "      <td>3548.30</td>\n",
       "      <td>No</td>\n",
       "    </tr>\n",
       "    <tr>\n",
       "      <th>38</th>\n",
       "      <td>5380-WJKOV</td>\n",
       "      <td>Male</td>\n",
       "      <td>0</td>\n",
       "      <td>No</td>\n",
       "      <td>No</td>\n",
       "      <td>34</td>\n",
       "      <td>Yes</td>\n",
       "      <td>Yes</td>\n",
       "      <td>Fiber optic</td>\n",
       "      <td>No</td>\n",
       "      <td>...</td>\n",
       "      <td>Yes</td>\n",
       "      <td>No</td>\n",
       "      <td>Yes</td>\n",
       "      <td>Yes</td>\n",
       "      <td>Month-to-month</td>\n",
       "      <td>Yes</td>\n",
       "      <td>Electronic check</td>\n",
       "      <td>106.35</td>\n",
       "      <td>3549.25</td>\n",
       "      <td>Yes</td>\n",
       "    </tr>\n",
       "    <tr>\n",
       "      <th>39</th>\n",
       "      <td>8168-UQWWF</td>\n",
       "      <td>Female</td>\n",
       "      <td>0</td>\n",
       "      <td>No</td>\n",
       "      <td>No</td>\n",
       "      <td>11</td>\n",
       "      <td>Yes</td>\n",
       "      <td>Yes</td>\n",
       "      <td>Fiber optic</td>\n",
       "      <td>No</td>\n",
       "      <td>...</td>\n",
       "      <td>Yes</td>\n",
       "      <td>No</td>\n",
       "      <td>Yes</td>\n",
       "      <td>Yes</td>\n",
       "      <td>Month-to-month</td>\n",
       "      <td>Yes</td>\n",
       "      <td>Bank transfer (automatic)</td>\n",
       "      <td>97.85</td>\n",
       "      <td>1105.40</td>\n",
       "      <td>Yes</td>\n",
       "    </tr>\n",
       "    <tr>\n",
       "      <th>40</th>\n",
       "      <td>8865-TNMNX</td>\n",
       "      <td>Male</td>\n",
       "      <td>0</td>\n",
       "      <td>Yes</td>\n",
       "      <td>Yes</td>\n",
       "      <td>10</td>\n",
       "      <td>Yes</td>\n",
       "      <td>No</td>\n",
       "      <td>DSL</td>\n",
       "      <td>No</td>\n",
       "      <td>...</td>\n",
       "      <td>No</td>\n",
       "      <td>No</td>\n",
       "      <td>No</td>\n",
       "      <td>No</td>\n",
       "      <td>One year</td>\n",
       "      <td>No</td>\n",
       "      <td>Mailed check</td>\n",
       "      <td>49.55</td>\n",
       "      <td>475.70</td>\n",
       "      <td>No</td>\n",
       "    </tr>\n",
       "    <tr>\n",
       "      <th>41</th>\n",
       "      <td>9489-DEDVP</td>\n",
       "      <td>Female</td>\n",
       "      <td>0</td>\n",
       "      <td>Yes</td>\n",
       "      <td>Yes</td>\n",
       "      <td>70</td>\n",
       "      <td>Yes</td>\n",
       "      <td>Yes</td>\n",
       "      <td>DSL</td>\n",
       "      <td>Yes</td>\n",
       "      <td>...</td>\n",
       "      <td>No</td>\n",
       "      <td>No</td>\n",
       "      <td>Yes</td>\n",
       "      <td>No</td>\n",
       "      <td>Two year</td>\n",
       "      <td>Yes</td>\n",
       "      <td>Credit card (automatic)</td>\n",
       "      <td>69.20</td>\n",
       "      <td>4872.35</td>\n",
       "      <td>No</td>\n",
       "    </tr>\n",
       "    <tr>\n",
       "      <th>42</th>\n",
       "      <td>9867-JCZSP</td>\n",
       "      <td>Female</td>\n",
       "      <td>0</td>\n",
       "      <td>Yes</td>\n",
       "      <td>Yes</td>\n",
       "      <td>17</td>\n",
       "      <td>Yes</td>\n",
       "      <td>No</td>\n",
       "      <td>No</td>\n",
       "      <td>No internet service</td>\n",
       "      <td>...</td>\n",
       "      <td>No internet service</td>\n",
       "      <td>No internet service</td>\n",
       "      <td>No internet service</td>\n",
       "      <td>No internet service</td>\n",
       "      <td>One year</td>\n",
       "      <td>No</td>\n",
       "      <td>Mailed check</td>\n",
       "      <td>20.75</td>\n",
       "      <td>418.25</td>\n",
       "      <td>No</td>\n",
       "    </tr>\n",
       "    <tr>\n",
       "      <th>43</th>\n",
       "      <td>4671-VJLCL</td>\n",
       "      <td>Female</td>\n",
       "      <td>0</td>\n",
       "      <td>No</td>\n",
       "      <td>No</td>\n",
       "      <td>63</td>\n",
       "      <td>Yes</td>\n",
       "      <td>Yes</td>\n",
       "      <td>DSL</td>\n",
       "      <td>Yes</td>\n",
       "      <td>...</td>\n",
       "      <td>Yes</td>\n",
       "      <td>Yes</td>\n",
       "      <td>Yes</td>\n",
       "      <td>No</td>\n",
       "      <td>Two year</td>\n",
       "      <td>Yes</td>\n",
       "      <td>Credit card (automatic)</td>\n",
       "      <td>79.85</td>\n",
       "      <td>4861.45</td>\n",
       "      <td>No</td>\n",
       "    </tr>\n",
       "    <tr>\n",
       "      <th>44</th>\n",
       "      <td>4080-IIARD</td>\n",
       "      <td>Female</td>\n",
       "      <td>0</td>\n",
       "      <td>Yes</td>\n",
       "      <td>No</td>\n",
       "      <td>13</td>\n",
       "      <td>Yes</td>\n",
       "      <td>Yes</td>\n",
       "      <td>DSL</td>\n",
       "      <td>Yes</td>\n",
       "      <td>...</td>\n",
       "      <td>No</td>\n",
       "      <td>Yes</td>\n",
       "      <td>Yes</td>\n",
       "      <td>No</td>\n",
       "      <td>Month-to-month</td>\n",
       "      <td>Yes</td>\n",
       "      <td>Electronic check</td>\n",
       "      <td>76.20</td>\n",
       "      <td>981.45</td>\n",
       "      <td>No</td>\n",
       "    </tr>\n",
       "    <tr>\n",
       "      <th>45</th>\n",
       "      <td>3714-NTNFO</td>\n",
       "      <td>Female</td>\n",
       "      <td>0</td>\n",
       "      <td>No</td>\n",
       "      <td>No</td>\n",
       "      <td>49</td>\n",
       "      <td>Yes</td>\n",
       "      <td>Yes</td>\n",
       "      <td>Fiber optic</td>\n",
       "      <td>No</td>\n",
       "      <td>...</td>\n",
       "      <td>No</td>\n",
       "      <td>No</td>\n",
       "      <td>No</td>\n",
       "      <td>Yes</td>\n",
       "      <td>Month-to-month</td>\n",
       "      <td>Yes</td>\n",
       "      <td>Electronic check</td>\n",
       "      <td>84.50</td>\n",
       "      <td>3906.70</td>\n",
       "      <td>No</td>\n",
       "    </tr>\n",
       "    <tr>\n",
       "      <th>46</th>\n",
       "      <td>5948-UJZLF</td>\n",
       "      <td>Male</td>\n",
       "      <td>0</td>\n",
       "      <td>No</td>\n",
       "      <td>No</td>\n",
       "      <td>2</td>\n",
       "      <td>Yes</td>\n",
       "      <td>No</td>\n",
       "      <td>DSL</td>\n",
       "      <td>No</td>\n",
       "      <td>...</td>\n",
       "      <td>No</td>\n",
       "      <td>No</td>\n",
       "      <td>No</td>\n",
       "      <td>No</td>\n",
       "      <td>Month-to-month</td>\n",
       "      <td>No</td>\n",
       "      <td>Mailed check</td>\n",
       "      <td>49.25</td>\n",
       "      <td>97.00</td>\n",
       "      <td>No</td>\n",
       "    </tr>\n",
       "    <tr>\n",
       "      <th>47</th>\n",
       "      <td>7760-OYPDY</td>\n",
       "      <td>Female</td>\n",
       "      <td>0</td>\n",
       "      <td>No</td>\n",
       "      <td>No</td>\n",
       "      <td>2</td>\n",
       "      <td>Yes</td>\n",
       "      <td>No</td>\n",
       "      <td>Fiber optic</td>\n",
       "      <td>No</td>\n",
       "      <td>...</td>\n",
       "      <td>No</td>\n",
       "      <td>No</td>\n",
       "      <td>Yes</td>\n",
       "      <td>No</td>\n",
       "      <td>Month-to-month</td>\n",
       "      <td>Yes</td>\n",
       "      <td>Electronic check</td>\n",
       "      <td>80.65</td>\n",
       "      <td>144.15</td>\n",
       "      <td>Yes</td>\n",
       "    </tr>\n",
       "    <tr>\n",
       "      <th>48</th>\n",
       "      <td>7639-LIAYI</td>\n",
       "      <td>Male</td>\n",
       "      <td>0</td>\n",
       "      <td>No</td>\n",
       "      <td>No</td>\n",
       "      <td>52</td>\n",
       "      <td>Yes</td>\n",
       "      <td>Yes</td>\n",
       "      <td>DSL</td>\n",
       "      <td>Yes</td>\n",
       "      <td>...</td>\n",
       "      <td>No</td>\n",
       "      <td>Yes</td>\n",
       "      <td>Yes</td>\n",
       "      <td>Yes</td>\n",
       "      <td>Two year</td>\n",
       "      <td>Yes</td>\n",
       "      <td>Credit card (automatic)</td>\n",
       "      <td>79.75</td>\n",
       "      <td>4217.80</td>\n",
       "      <td>No</td>\n",
       "    </tr>\n",
       "    <tr>\n",
       "      <th>49</th>\n",
       "      <td>2954-PIBKO</td>\n",
       "      <td>Female</td>\n",
       "      <td>0</td>\n",
       "      <td>Yes</td>\n",
       "      <td>Yes</td>\n",
       "      <td>69</td>\n",
       "      <td>Yes</td>\n",
       "      <td>Yes</td>\n",
       "      <td>DSL</td>\n",
       "      <td>Yes</td>\n",
       "      <td>...</td>\n",
       "      <td>Yes</td>\n",
       "      <td>Yes</td>\n",
       "      <td>No</td>\n",
       "      <td>No</td>\n",
       "      <td>Two year</td>\n",
       "      <td>Yes</td>\n",
       "      <td>Credit card (automatic)</td>\n",
       "      <td>64.15</td>\n",
       "      <td>4254.10</td>\n",
       "      <td>No</td>\n",
       "    </tr>\n",
       "  </tbody>\n",
       "</table>\n",
       "<p>50 rows × 21 columns</p>\n",
       "</div>"
      ],
      "text/plain": [
       "    customerID  gender  SeniorCitizen Partner Dependents  tenure PhoneService  \\\n",
       "0   7590-VHVEG  Female              0     Yes         No       1           No   \n",
       "1   5575-GNVDE    Male              0      No         No      34          Yes   \n",
       "2   3668-QPYBK    Male              0      No         No       2          Yes   \n",
       "3   7795-CFOCW    Male              0      No         No      45           No   \n",
       "4   9237-HQITU  Female              0      No         No       2          Yes   \n",
       "5   9305-CDSKC  Female              0      No         No       8          Yes   \n",
       "6   1452-KIOVK    Male              0      No        Yes      22          Yes   \n",
       "7   6713-OKOMC  Female              0      No         No      10           No   \n",
       "8   7892-POOKP  Female              0     Yes         No      28          Yes   \n",
       "9   6388-TABGU    Male              0      No        Yes      62          Yes   \n",
       "10  9763-GRSKD    Male              0     Yes        Yes      13          Yes   \n",
       "11  7469-LKBCI    Male              0      No         No      16          Yes   \n",
       "12  8091-TTVAX    Male              0     Yes         No      58          Yes   \n",
       "13  0280-XJGEX    Male              0      No         No      49          Yes   \n",
       "14  5129-JLPIS    Male              0      No         No      25          Yes   \n",
       "15  3655-SNQYZ  Female              0     Yes        Yes      69          Yes   \n",
       "16  8191-XWSZG  Female              0      No         No      52          Yes   \n",
       "17  9959-WOFKT    Male              0      No        Yes      71          Yes   \n",
       "18  4190-MFLUW  Female              0     Yes        Yes      10          Yes   \n",
       "19  4183-MYFRB  Female              0      No         No      21          Yes   \n",
       "20  8779-QRDMV    Male              1      No         No       1           No   \n",
       "21  1680-VDCWW    Male              0     Yes         No      12          Yes   \n",
       "22  1066-JKSGK    Male              0      No         No       1          Yes   \n",
       "23  3638-WEABW  Female              0     Yes         No      58          Yes   \n",
       "24  6322-HRPFA    Male              0     Yes        Yes      49          Yes   \n",
       "25  6865-JZNKO  Female              0      No         No      30          Yes   \n",
       "26  6467-CHFZW    Male              0     Yes        Yes      47          Yes   \n",
       "27  8665-UTDHZ    Male              0     Yes        Yes       1           No   \n",
       "28  5248-YGIJN    Male              0     Yes         No      72          Yes   \n",
       "29  8773-HHUOZ  Female              0      No        Yes      17          Yes   \n",
       "30  3841-NFECX  Female              1     Yes         No      71          Yes   \n",
       "31  4929-XIHVW    Male              1     Yes         No       2          Yes   \n",
       "32  6827-IEAUQ  Female              0     Yes        Yes      27          Yes   \n",
       "33  7310-EGVHZ    Male              0      No         No       1          Yes   \n",
       "34  3413-BMNZE    Male              1      No         No       1          Yes   \n",
       "35  6234-RAAPL  Female              0     Yes        Yes      72          Yes   \n",
       "36  6047-YHPVI    Male              0      No         No       5          Yes   \n",
       "37  6572-ADKRS  Female              0      No         No      46          Yes   \n",
       "38  5380-WJKOV    Male              0      No         No      34          Yes   \n",
       "39  8168-UQWWF  Female              0      No         No      11          Yes   \n",
       "40  8865-TNMNX    Male              0     Yes        Yes      10          Yes   \n",
       "41  9489-DEDVP  Female              0     Yes        Yes      70          Yes   \n",
       "42  9867-JCZSP  Female              0     Yes        Yes      17          Yes   \n",
       "43  4671-VJLCL  Female              0      No         No      63          Yes   \n",
       "44  4080-IIARD  Female              0     Yes         No      13          Yes   \n",
       "45  3714-NTNFO  Female              0      No         No      49          Yes   \n",
       "46  5948-UJZLF    Male              0      No         No       2          Yes   \n",
       "47  7760-OYPDY  Female              0      No         No       2          Yes   \n",
       "48  7639-LIAYI    Male              0      No         No      52          Yes   \n",
       "49  2954-PIBKO  Female              0     Yes        Yes      69          Yes   \n",
       "\n",
       "       MultipleLines InternetService       OnlineSecurity  ...  \\\n",
       "0   No phone service             DSL                   No  ...   \n",
       "1                 No             DSL                  Yes  ...   \n",
       "2                 No             DSL                  Yes  ...   \n",
       "3   No phone service             DSL                  Yes  ...   \n",
       "4                 No     Fiber optic                   No  ...   \n",
       "5                Yes     Fiber optic                   No  ...   \n",
       "6                Yes     Fiber optic                   No  ...   \n",
       "7   No phone service             DSL                  Yes  ...   \n",
       "8                Yes     Fiber optic                   No  ...   \n",
       "9                 No             DSL                  Yes  ...   \n",
       "10                No             DSL                  Yes  ...   \n",
       "11                No              No  No internet service  ...   \n",
       "12               Yes     Fiber optic                   No  ...   \n",
       "13               Yes     Fiber optic                   No  ...   \n",
       "14                No     Fiber optic                  Yes  ...   \n",
       "15               Yes     Fiber optic                  Yes  ...   \n",
       "16                No              No  No internet service  ...   \n",
       "17               Yes     Fiber optic                  Yes  ...   \n",
       "18                No             DSL                   No  ...   \n",
       "19                No     Fiber optic                   No  ...   \n",
       "20  No phone service             DSL                   No  ...   \n",
       "21                No              No  No internet service  ...   \n",
       "22                No              No  No internet service  ...   \n",
       "23               Yes             DSL                   No  ...   \n",
       "24                No             DSL                  Yes  ...   \n",
       "25                No             DSL                  Yes  ...   \n",
       "26               Yes     Fiber optic                   No  ...   \n",
       "27  No phone service             DSL                   No  ...   \n",
       "28               Yes             DSL                  Yes  ...   \n",
       "29                No             DSL                   No  ...   \n",
       "30               Yes     Fiber optic                  Yes  ...   \n",
       "31                No     Fiber optic                   No  ...   \n",
       "32                No             DSL                  Yes  ...   \n",
       "33                No              No  No internet service  ...   \n",
       "34                No             DSL                   No  ...   \n",
       "35               Yes     Fiber optic                  Yes  ...   \n",
       "36                No     Fiber optic                   No  ...   \n",
       "37                No     Fiber optic                   No  ...   \n",
       "38               Yes     Fiber optic                   No  ...   \n",
       "39               Yes     Fiber optic                   No  ...   \n",
       "40                No             DSL                   No  ...   \n",
       "41               Yes             DSL                  Yes  ...   \n",
       "42                No              No  No internet service  ...   \n",
       "43               Yes             DSL                  Yes  ...   \n",
       "44               Yes             DSL                  Yes  ...   \n",
       "45               Yes     Fiber optic                   No  ...   \n",
       "46                No             DSL                   No  ...   \n",
       "47                No     Fiber optic                   No  ...   \n",
       "48               Yes             DSL                  Yes  ...   \n",
       "49               Yes             DSL                  Yes  ...   \n",
       "\n",
       "       DeviceProtection          TechSupport          StreamingTV  \\\n",
       "0                    No                   No                   No   \n",
       "1                   Yes                   No                   No   \n",
       "2                    No                   No                   No   \n",
       "3                   Yes                  Yes                   No   \n",
       "4                    No                   No                   No   \n",
       "5                   Yes                   No                  Yes   \n",
       "6                    No                   No                  Yes   \n",
       "7                    No                   No                   No   \n",
       "8                   Yes                  Yes                  Yes   \n",
       "9                    No                   No                   No   \n",
       "10                   No                   No                   No   \n",
       "11  No internet service  No internet service  No internet service   \n",
       "12                  Yes                   No                  Yes   \n",
       "13                  Yes                   No                  Yes   \n",
       "14                  Yes                  Yes                  Yes   \n",
       "15                  Yes                  Yes                  Yes   \n",
       "16  No internet service  No internet service  No internet service   \n",
       "17                  Yes                   No                  Yes   \n",
       "18                  Yes                  Yes                   No   \n",
       "19                  Yes                   No                   No   \n",
       "20                  Yes                   No                   No   \n",
       "21  No internet service  No internet service  No internet service   \n",
       "22  No internet service  No internet service  No internet service   \n",
       "23                   No                  Yes                   No   \n",
       "24                   No                  Yes                   No   \n",
       "25                   No                   No                   No   \n",
       "26                   No                   No                  Yes   \n",
       "27                   No                   No                   No   \n",
       "28                  Yes                  Yes                  Yes   \n",
       "29                   No                   No                  Yes   \n",
       "30                  Yes                  Yes                   No   \n",
       "31                  Yes                   No                  Yes   \n",
       "32                  Yes                  Yes                   No   \n",
       "33  No internet service  No internet service  No internet service   \n",
       "34                   No                   No                   No   \n",
       "35                   No                  Yes                  Yes   \n",
       "36                   No                   No                   No   \n",
       "37                  Yes                   No                   No   \n",
       "38                  Yes                   No                  Yes   \n",
       "39                  Yes                   No                  Yes   \n",
       "40                   No                   No                   No   \n",
       "41                   No                   No                  Yes   \n",
       "42  No internet service  No internet service  No internet service   \n",
       "43                  Yes                  Yes                  Yes   \n",
       "44                   No                  Yes                  Yes   \n",
       "45                   No                   No                   No   \n",
       "46                   No                   No                   No   \n",
       "47                   No                   No                  Yes   \n",
       "48                   No                  Yes                  Yes   \n",
       "49                  Yes                  Yes                   No   \n",
       "\n",
       "        StreamingMovies        Contract PaperlessBilling  \\\n",
       "0                    No  Month-to-month              Yes   \n",
       "1                    No        One year               No   \n",
       "2                    No  Month-to-month              Yes   \n",
       "3                    No        One year               No   \n",
       "4                    No  Month-to-month              Yes   \n",
       "5                   Yes  Month-to-month              Yes   \n",
       "6                    No  Month-to-month              Yes   \n",
       "7                    No  Month-to-month               No   \n",
       "8                   Yes  Month-to-month              Yes   \n",
       "9                    No        One year               No   \n",
       "10                   No  Month-to-month              Yes   \n",
       "11  No internet service        Two year               No   \n",
       "12                  Yes        One year               No   \n",
       "13                  Yes  Month-to-month              Yes   \n",
       "14                  Yes  Month-to-month              Yes   \n",
       "15                  Yes        Two year               No   \n",
       "16  No internet service        One year               No   \n",
       "17                  Yes        Two year               No   \n",
       "18                   No  Month-to-month               No   \n",
       "19                  Yes  Month-to-month              Yes   \n",
       "20                  Yes  Month-to-month              Yes   \n",
       "21  No internet service        One year               No   \n",
       "22  No internet service  Month-to-month               No   \n",
       "23                   No        Two year              Yes   \n",
       "24                   No  Month-to-month               No   \n",
       "25                   No  Month-to-month              Yes   \n",
       "26                  Yes  Month-to-month              Yes   \n",
       "27                   No  Month-to-month               No   \n",
       "28                  Yes        Two year              Yes   \n",
       "29                  Yes  Month-to-month              Yes   \n",
       "30                   No        Two year              Yes   \n",
       "31                  Yes  Month-to-month              Yes   \n",
       "32                   No        One year               No   \n",
       "33  No internet service  Month-to-month               No   \n",
       "34                   No  Month-to-month               No   \n",
       "35                   No        Two year               No   \n",
       "36                   No  Month-to-month              Yes   \n",
       "37                   No  Month-to-month              Yes   \n",
       "38                  Yes  Month-to-month              Yes   \n",
       "39                  Yes  Month-to-month              Yes   \n",
       "40                   No        One year               No   \n",
       "41                   No        Two year              Yes   \n",
       "42  No internet service        One year               No   \n",
       "43                   No        Two year              Yes   \n",
       "44                   No  Month-to-month              Yes   \n",
       "45                  Yes  Month-to-month              Yes   \n",
       "46                   No  Month-to-month               No   \n",
       "47                   No  Month-to-month              Yes   \n",
       "48                  Yes        Two year              Yes   \n",
       "49                   No        Two year              Yes   \n",
       "\n",
       "                PaymentMethod MonthlyCharges  TotalCharges  Churn  \n",
       "0            Electronic check          29.85         29.85     No  \n",
       "1                Mailed check          56.95       1889.50     No  \n",
       "2                Mailed check          53.85        108.15    Yes  \n",
       "3   Bank transfer (automatic)          42.30       1840.75     No  \n",
       "4            Electronic check          70.70        151.65    Yes  \n",
       "5            Electronic check          99.65        820.50    Yes  \n",
       "6     Credit card (automatic)          89.10       1949.40     No  \n",
       "7                Mailed check          29.75        301.90     No  \n",
       "8            Electronic check         104.80       3046.05    Yes  \n",
       "9   Bank transfer (automatic)          56.15       3487.95     No  \n",
       "10               Mailed check          49.95        587.45     No  \n",
       "11    Credit card (automatic)          18.95        326.80     No  \n",
       "12    Credit card (automatic)         100.35       5681.10     No  \n",
       "13  Bank transfer (automatic)         103.70       5036.30    Yes  \n",
       "14           Electronic check         105.50       2686.05     No  \n",
       "15    Credit card (automatic)         113.25       7895.15     No  \n",
       "16               Mailed check          20.65       1022.95     No  \n",
       "17  Bank transfer (automatic)         106.70       7382.25     No  \n",
       "18    Credit card (automatic)          55.20        528.35    Yes  \n",
       "19           Electronic check          90.05       1862.90     No  \n",
       "20           Electronic check          39.65         39.65    Yes  \n",
       "21  Bank transfer (automatic)          19.80        202.25     No  \n",
       "22               Mailed check          20.15         20.15    Yes  \n",
       "23    Credit card (automatic)          59.90       3505.10     No  \n",
       "24    Credit card (automatic)          59.60       2970.30     No  \n",
       "25  Bank transfer (automatic)          55.30       1530.60     No  \n",
       "26           Electronic check          99.35       4749.15    Yes  \n",
       "27           Electronic check          30.20         30.20    Yes  \n",
       "28    Credit card (automatic)          90.25       6369.45     No  \n",
       "29               Mailed check          64.70       1093.10    Yes  \n",
       "30    Credit card (automatic)          96.35       6766.95     No  \n",
       "31    Credit card (automatic)          95.50        181.65     No  \n",
       "32               Mailed check          66.15       1874.45     No  \n",
       "33  Bank transfer (automatic)          20.20         20.20     No  \n",
       "34  Bank transfer (automatic)          45.25         45.25     No  \n",
       "35  Bank transfer (automatic)          99.90       7251.70     No  \n",
       "36           Electronic check          69.70        316.90    Yes  \n",
       "37    Credit card (automatic)          74.80       3548.30     No  \n",
       "38           Electronic check         106.35       3549.25    Yes  \n",
       "39  Bank transfer (automatic)          97.85       1105.40    Yes  \n",
       "40               Mailed check          49.55        475.70     No  \n",
       "41    Credit card (automatic)          69.20       4872.35     No  \n",
       "42               Mailed check          20.75        418.25     No  \n",
       "43    Credit card (automatic)          79.85       4861.45     No  \n",
       "44           Electronic check          76.20        981.45     No  \n",
       "45           Electronic check          84.50       3906.70     No  \n",
       "46               Mailed check          49.25         97.00     No  \n",
       "47           Electronic check          80.65        144.15    Yes  \n",
       "48    Credit card (automatic)          79.75       4217.80     No  \n",
       "49    Credit card (automatic)          64.15       4254.10     No  \n",
       "\n",
       "[50 rows x 21 columns]"
      ]
     },
     "execution_count": 43,
     "metadata": {},
     "output_type": "execute_result"
    }
   ],
   "source": [
    "telco_churn.head(50)"
   ]
  },
  {
   "cell_type": "code",
   "execution_count": 12,
   "id": "99dd41c3",
   "metadata": {},
   "outputs": [
    {
     "data": {
      "text/plain": [
       "<AxesSubplot:xlabel='tenure', ylabel='MonthlyCharges'>"
      ]
     },
     "execution_count": 12,
     "metadata": {},
     "output_type": "execute_result"
    },
    {
     "data": {
      "image/png": "[encoded data removed]",
      "text/plain": [
       "<Figure size 432x288 with 1 Axes>"
      ]
     },
     "metadata": {
      "needs_background": "light"
     },
     "output_type": "display_data"
    }
   ],
   "source": [
    "telco_churn.plot.scatter(y='MonthlyCharges', x='tenure')\n"
   ]
  },
  {
   "cell_type": "code",
   "execution_count": 13,
   "id": "c5772cd0",
   "metadata": {},
   "outputs": [],
   "source": [
    "alpha = .05"
   ]
  },
  {
   "cell_type": "code",
   "execution_count": 14,
   "id": "19b9a529",
   "metadata": {},
   "outputs": [],
   "source": [
    "# H0: There is no linear relationship between tenure and monthly charges.\n",
    "# HA: There is a linear relationship between tenure and monthly charges. "
   ]
  },
  {
   "cell_type": "code",
   "execution_count": 16,
   "id": "065fc8c6",
   "metadata": {},
   "outputs": [
    {
     "data": {
      "text/plain": [
       "(0.2478998562861525, 4.094044991483017e-99)"
      ]
     },
     "execution_count": 16,
     "metadata": {},
     "output_type": "execute_result"
    }
   ],
   "source": [
    "x = telco_churn.tenure\n",
    "y = telco_churn.MonthlyCharges\n",
    "\n",
    "r, p = stats.pearsonr(x, y)\n",
    "r, p"
   ]
  },
  {
   "cell_type": "code",
   "execution_count": 18,
   "id": "fda25f7a",
   "metadata": {},
   "outputs": [],
   "source": [
    "# Given the above r value we do not reject the null hypothesis, and retain the impression that there is no \n",
    "# linear relationship between tenure and monthly charges. "
   ]
  },
  {
   "cell_type": "code",
   "execution_count": 27,
   "id": "38d87fec",
   "metadata": {},
   "outputs": [
    {
     "data": {
      "text/plain": [
       "<AxesSubplot:xlabel='tenure', ylabel='TotalCharges'>"
      ]
     },
     "execution_count": 27,
     "metadata": {},
     "output_type": "execute_result"
    },
    {
     "data": {
      "image/png": "[encoded data removed]",
      "text/plain": [
       "<Figure size 432x288 with 1 Axes>"
      ]
     },
     "metadata": {
      "needs_background": "light"
     },
     "output_type": "display_data"
    }
   ],
   "source": [
    "# Does tenure correlate with total charges?\n",
    "telco_churn.plot.scatter(y='TotalCharges', x='tenure')"
   ]
  },
  {
   "cell_type": "code",
   "execution_count": 20,
   "id": "a16c6156",
   "metadata": {},
   "outputs": [],
   "source": [
    "# H0: There is no linear correlation between tenure and total charges.\n",
    "# HA: There is a linear correlation between tenure and total charges."
   ]
  },
  {
   "cell_type": "code",
   "execution_count": 21,
   "id": "c2a56eec",
   "metadata": {},
   "outputs": [],
   "source": [
    "y2 = telco_churn.TotalCharges"
   ]
  },
  {
   "cell_type": "code",
   "execution_count": 26,
   "id": "0d2e00d3",
   "metadata": {},
   "outputs": [
    {
     "name": "stdout",
     "output_type": "stream",
     "text": [
      "<class 'pandas.core.frame.DataFrame'>\n",
      "RangeIndex: 7043 entries, 0 to 7042\n",
      "Data columns (total 21 columns):\n",
      " #   Column            Non-Null Count  Dtype  \n",
      "---  ------            --------------  -----  \n",
      " 0   customerID        7043 non-null   object \n",
      " 1   gender            7043 non-null   object \n",
      " 2   SeniorCitizen     7043 non-null   int64  \n",
      " 3   Partner           7043 non-null   object \n",
      " 4   Dependents        7043 non-null   object \n",
      " 5   tenure            7043 non-null   int64  \n",
      " 6   PhoneService      7043 non-null   object \n",
      " 7   MultipleLines     7043 non-null   object \n",
      " 8   InternetService   7043 non-null   object \n",
      " 9   OnlineSecurity    7043 non-null   object \n",
      " 10  OnlineBackup      7043 non-null   object \n",
      " 11  DeviceProtection  7043 non-null   object \n",
      " 12  TechSupport       7043 non-null   object \n",
      " 13  StreamingTV       7043 non-null   object \n",
      " 14  StreamingMovies   7043 non-null   object \n",
      " 15  Contract          7043 non-null   object \n",
      " 16  PaperlessBilling  7043 non-null   object \n",
      " 17  PaymentMethod     7043 non-null   object \n",
      " 18  MonthlyCharges    7043 non-null   float64\n",
      " 19  TotalCharges      7032 non-null   float64\n",
      " 20  Churn             7043 non-null   object \n",
      "dtypes: float64(2), int64(2), object(17)\n",
      "memory usage: 1.1+ MB\n"
     ]
    }
   ],
   "source": [
    "telco_churn.info()"
   ]
  },
  {
   "cell_type": "code",
   "execution_count": 39,
   "id": "5791d449",
   "metadata": {},
   "outputs": [],
   "source": [
    "telco_churn = telco_churn.dropna()"
   ]
  },
  {
   "cell_type": "code",
   "execution_count": 40,
   "id": "b2213f5b",
   "metadata": {},
   "outputs": [
    {
     "data": {
      "text/plain": [
       "(0.8258804609332093, 0.0)"
      ]
     },
     "execution_count": 40,
     "metadata": {},
     "output_type": "execute_result"
    }
   ],
   "source": [
    "y2 = telco_churn.TotalCharges\n",
    "x = telco_churn.tenure\n",
    "r, p = stats.pearsonr(x, y2)\n",
    "r, p"
   ]
  },
  {
   "cell_type": "code",
   "execution_count": 41,
   "id": "2eac4c21",
   "metadata": {},
   "outputs": [],
   "source": [
    "# Based on the above r value we can reject the null hypothesis and assert that there is a strong linear\n",
    "# correlation between tenure and total charges."
   ]
  },
  {
   "cell_type": "code",
   "execution_count": 42,
   "id": "516b4e06",
   "metadata": {},
   "outputs": [],
   "source": [
    "# Control for phone and internet services for both tenure/monthly and tenure/total correlations"
   ]
  },
  {
   "cell_type": "code",
   "execution_count": 52,
   "id": "93b104cb",
   "metadata": {},
   "outputs": [],
   "source": [
    "churn_phone = telco_churn[(telco_churn.PhoneService == 'Yes') & (telco_churn.InternetService == 'No')]\n",
    "churn_internet = telco_churn[(telco_churn.PhoneService == 'No') & (telco_churn.InternetService != 'No')]\n",
    "churn_p_and_i = telco_churn[(telco_churn.PhoneService == 'Yes') & (telco_churn.InternetService != 'No')]"
   ]
  },
  {
   "cell_type": "code",
   "execution_count": 54,
   "id": "58401019",
   "metadata": {},
   "outputs": [
    {
     "data": {
      "text/plain": [
       "(0.34618773548574805, 4.896604599947503e-44)"
      ]
     },
     "execution_count": 54,
     "metadata": {},
     "output_type": "execute_result"
    }
   ],
   "source": [
    "r, p = stats.pearsonr(churn_phone.tenure, churn_phone.MonthlyCharges)\n",
    "r, p"
   ]
  },
  {
   "cell_type": "code",
   "execution_count": 55,
   "id": "e6e298fd",
   "metadata": {},
   "outputs": [
    {
     "data": {
      "text/plain": [
       "(0.5924298640568981, 1.1732739032893169e-65)"
      ]
     },
     "execution_count": 55,
     "metadata": {},
     "output_type": "execute_result"
    }
   ],
   "source": [
    "r, p = stats.pearsonr(churn_internet.tenure, churn_internet.MonthlyCharges)\n",
    "r, p"
   ]
  },
  {
   "cell_type": "code",
   "execution_count": 56,
   "id": "39d290d2",
   "metadata": {},
   "outputs": [
    {
     "data": {
      "text/plain": [
       "(0.44298353142053476, 1.998548108068337e-231)"
      ]
     },
     "execution_count": 56,
     "metadata": {},
     "output_type": "execute_result"
    }
   ],
   "source": [
    "r, p = stats.pearsonr(churn_p_and_i.tenure, churn_p_and_i.MonthlyCharges)\n",
    "r, p"
   ]
  },
  {
   "cell_type": "code",
   "execution_count": 57,
   "id": "b3d40ff1",
   "metadata": {},
   "outputs": [],
   "source": [
    "# Seen above is control for phone, internet (DSL), and phone & internet tenure/monthly charges. There is some \n",
    "# variation in linear correlation when controlling for these elements. "
   ]
  },
  {
   "cell_type": "code",
   "execution_count": 58,
   "id": "42eecf09",
   "metadata": {},
   "outputs": [
    {
     "data": {
      "text/plain": [
       "(0.9814648859044319, 0.0)"
      ]
     },
     "execution_count": 58,
     "metadata": {},
     "output_type": "execute_result"
    }
   ],
   "source": [
    "r, p = stats.pearsonr(churn_phone.tenure, churn_phone.TotalCharges)\n",
    "r, p"
   ]
  },
  {
   "cell_type": "code",
   "execution_count": 59,
   "id": "e2fc02cf",
   "metadata": {},
   "outputs": [
    {
     "data": {
      "text/plain": [
       "(0.9534228506954507, 0.0)"
      ]
     },
     "execution_count": 59,
     "metadata": {},
     "output_type": "execute_result"
    }
   ],
   "source": [
    "r, p = stats.pearsonr(churn_internet.tenure, churn_internet.TotalCharges)\n",
    "r, p"
   ]
  },
  {
   "cell_type": "code",
   "execution_count": 60,
   "id": "84c30a28",
   "metadata": {},
   "outputs": [
    {
     "data": {
      "text/plain": [
       "(0.957922977802917, 0.0)"
      ]
     },
     "execution_count": 60,
     "metadata": {},
     "output_type": "execute_result"
    }
   ],
   "source": [
    "r, p = stats.pearsonr(churn_p_and_i.tenure, churn_p_and_i.TotalCharges)\n",
    "r, p"
   ]
  },
  {
   "cell_type": "code",
   "execution_count": 61,
   "id": "db152e2b",
   "metadata": {},
   "outputs": [],
   "source": [
    "# Seen above is control for phone, internet (DSL), and phone & internet tenure/total charges. There is a strong \n",
    "# linear correlation for all three of these categories. "
   ]
  },
  {
   "cell_type": "code",
   "execution_count": 62,
   "id": "d77ff562",
   "metadata": {},
   "outputs": [],
   "source": [
    "# 2. Use the employees database.\n",
    "# Is there a relationship between how long an employee has been with the company and their salary?\n",
    "# Is there a relationship between how long an employee has been with the company and the number of titles \n",
    "# they have had?"
   ]
  },
  {
   "cell_type": "code",
   "execution_count": 64,
   "id": "651f0ec6",
   "metadata": {},
   "outputs": [],
   "source": [
    "from env import host, username, password\n",
    "from env import get_db_url"
   ]
  },
  {
   "cell_type": "code",
   "execution_count": 65,
   "id": "0ced33c8",
   "metadata": {},
   "outputs": [],
   "source": [
    "e_url = get_db_url('employees')"
   ]
  },
  {
   "cell_type": "code",
   "execution_count": 79,
   "id": "afa4df5d",
   "metadata": {},
   "outputs": [],
   "source": [
    "current_salaries = pd.read_sql('SELECT * FROM salaries WHERE to_date > NOW()', e_url)"
   ]
  },
  {
   "cell_type": "code",
   "execution_count": 80,
   "id": "7fe12cd6",
   "metadata": {},
   "outputs": [],
   "source": [
    "hiredate_employee = pd.read_sql('SELECT DATEDIFF(NOW(), hire_date), emp_no FROM employees;', e_url)"
   ]
  },
  {
   "cell_type": "code",
   "execution_count": 85,
   "id": "f58e38a2",
   "metadata": {},
   "outputs": [],
   "source": [
    "current_salaries = current_salaries.merge(hiredate_employee, how='outer', on='emp_no')"
   ]
  },
  {
   "cell_type": "code",
   "execution_count": 88,
   "id": "277017c3",
   "metadata": {},
   "outputs": [
    {
     "data": {
      "text/html": [
       "<div>\n",
       "<style scoped>\n",
       "    .dataframe tbody tr th:only-of-type {\n",
       "        vertical-align: middle;\n",
       "    }\n",
       "\n",
       "    .dataframe tbody tr th {\n",
       "        vertical-align: top;\n",
       "    }\n",
       "\n",
       "    .dataframe thead th {\n",
       "        text-align: right;\n",
       "    }\n",
       "</style>\n",
       "<table border=\"1\" class=\"dataframe\">\n",
       "  <thead>\n",
       "    <tr style=\"text-align: right;\">\n",
       "      <th></th>\n",
       "      <th>emp_no</th>\n",
       "      <th>salary</th>\n",
       "      <th>from_date</th>\n",
       "      <th>to_date</th>\n",
       "      <th>DATEDIFF(NOW(), hire_date)</th>\n",
       "    </tr>\n",
       "  </thead>\n",
       "  <tbody>\n",
       "    <tr>\n",
       "      <th>0</th>\n",
       "      <td>10001</td>\n",
       "      <td>88958.0</td>\n",
       "      <td>2002-06-22</td>\n",
       "      <td>9999-01-01</td>\n",
       "      <td>13021</td>\n",
       "    </tr>\n",
       "    <tr>\n",
       "      <th>1</th>\n",
       "      <td>10002</td>\n",
       "      <td>72527.0</td>\n",
       "      <td>2001-08-02</td>\n",
       "      <td>9999-01-01</td>\n",
       "      <td>13238</td>\n",
       "    </tr>\n",
       "    <tr>\n",
       "      <th>2</th>\n",
       "      <td>10003</td>\n",
       "      <td>43311.0</td>\n",
       "      <td>2001-12-01</td>\n",
       "      <td>9999-01-01</td>\n",
       "      <td>12958</td>\n",
       "    </tr>\n",
       "    <tr>\n",
       "      <th>3</th>\n",
       "      <td>10004</td>\n",
       "      <td>74057.0</td>\n",
       "      <td>2001-11-27</td>\n",
       "      <td>9999-01-01</td>\n",
       "      <td>12863</td>\n",
       "    </tr>\n",
       "    <tr>\n",
       "      <th>4</th>\n",
       "      <td>10005</td>\n",
       "      <td>94692.0</td>\n",
       "      <td>2001-09-09</td>\n",
       "      <td>9999-01-01</td>\n",
       "      <td>11847</td>\n",
       "    </tr>\n",
       "  </tbody>\n",
       "</table>\n",
       "</div>"
      ],
      "text/plain": [
       "   emp_no   salary   from_date     to_date  DATEDIFF(NOW(), hire_date)\n",
       "0   10001  88958.0  2002-06-22  9999-01-01                       13021\n",
       "1   10002  72527.0  2001-08-02  9999-01-01                       13238\n",
       "2   10003  43311.0  2001-12-01  9999-01-01                       12958\n",
       "3   10004  74057.0  2001-11-27  9999-01-01                       12863\n",
       "4   10005  94692.0  2001-09-09  9999-01-01                       11847"
      ]
     },
     "execution_count": 88,
     "metadata": {},
     "output_type": "execute_result"
    }
   ],
   "source": [
    "current_salaries.head()"
   ]
  },
  {
   "cell_type": "code",
   "execution_count": 101,
   "id": "3c714dc0",
   "metadata": {},
   "outputs": [],
   "source": [
    "current_salaries = current_salaries.rename(columns={'DATEDIFF(NOW(), hire_date)': 'hiredate_int'})"
   ]
  },
  {
   "cell_type": "code",
   "execution_count": 102,
   "id": "5e080da2",
   "metadata": {},
   "outputs": [],
   "source": [
    "current_salaries = current_salaries.dropna()"
   ]
  },
  {
   "cell_type": "code",
   "execution_count": 103,
   "id": "67cfb1c9",
   "metadata": {},
   "outputs": [
    {
     "data": {
      "text/plain": [
       "<AxesSubplot:xlabel='hiredate_int', ylabel='salary'>"
      ]
     },
     "execution_count": 103,
     "metadata": {},
     "output_type": "execute_result"
    },
    {
     "data": {
      "image/png": "[encoded data removed]",
      "text/plain": [
       "<Figure size 432x288 with 1 Axes>"
      ]
     },
     "metadata": {
      "needs_background": "light"
     },
     "output_type": "display_data"
    }
   ],
   "source": [
    "current_salaries.plot.scatter(y='salary', x='hiredate_int')"
   ]
  },
  {
   "cell_type": "code",
   "execution_count": 104,
   "id": "0166d989",
   "metadata": {},
   "outputs": [],
   "source": [
    "# H0: There is no linear correlation between salary and hiredate_int.\n",
    "# HA: There is a linear correlation between salary and hiredate_int."
   ]
  },
  {
   "cell_type": "code",
   "execution_count": 107,
   "id": "6f20f4ee",
   "metadata": {},
   "outputs": [
    {
     "data": {
      "text/plain": [
       "(0.30646256131860894, 0.0)"
      ]
     },
     "execution_count": 107,
     "metadata": {},
     "output_type": "execute_result"
    }
   ],
   "source": [
    "r, p = stats.pearsonr(current_salaries.salary, current_salaries.hiredate_int)\n",
    "r, p"
   ]
  },
  {
   "cell_type": "code",
   "execution_count": 108,
   "id": "dac3bea8",
   "metadata": {},
   "outputs": [],
   "source": [
    "# Based on the above r value there is a linear correlation between salary and hiredate_int,\n",
    "# so we would reject the null hypothesis, but it is a weak one."
   ]
  },
  {
   "cell_type": "code",
   "execution_count": 111,
   "id": "47265e0e",
   "metadata": {},
   "outputs": [],
   "source": [
    "emp_title_n = pd.read_sql('SELECT COUNT(title) AS title_n, emp_no FROM titles GROUP BY emp_no;', e_url)"
   ]
  },
  {
   "cell_type": "code",
   "execution_count": 112,
   "id": "a24566ca",
   "metadata": {},
   "outputs": [
    {
     "data": {
      "text/html": [
       "<div>\n",
       "<style scoped>\n",
       "    .dataframe tbody tr th:only-of-type {\n",
       "        vertical-align: middle;\n",
       "    }\n",
       "\n",
       "    .dataframe tbody tr th {\n",
       "        vertical-align: top;\n",
       "    }\n",
       "\n",
       "    .dataframe thead th {\n",
       "        text-align: right;\n",
       "    }\n",
       "</style>\n",
       "<table border=\"1\" class=\"dataframe\">\n",
       "  <thead>\n",
       "    <tr style=\"text-align: right;\">\n",
       "      <th></th>\n",
       "      <th>title_n</th>\n",
       "      <th>emp_no</th>\n",
       "    </tr>\n",
       "  </thead>\n",
       "  <tbody>\n",
       "    <tr>\n",
       "      <th>0</th>\n",
       "      <td>1</td>\n",
       "      <td>10001</td>\n",
       "    </tr>\n",
       "    <tr>\n",
       "      <th>1</th>\n",
       "      <td>1</td>\n",
       "      <td>10002</td>\n",
       "    </tr>\n",
       "    <tr>\n",
       "      <th>2</th>\n",
       "      <td>1</td>\n",
       "      <td>10003</td>\n",
       "    </tr>\n",
       "    <tr>\n",
       "      <th>3</th>\n",
       "      <td>2</td>\n",
       "      <td>10004</td>\n",
       "    </tr>\n",
       "    <tr>\n",
       "      <th>4</th>\n",
       "      <td>2</td>\n",
       "      <td>10005</td>\n",
       "    </tr>\n",
       "  </tbody>\n",
       "</table>\n",
       "</div>"
      ],
      "text/plain": [
       "   title_n  emp_no\n",
       "0        1   10001\n",
       "1        1   10002\n",
       "2        1   10003\n",
       "3        2   10004\n",
       "4        2   10005"
      ]
     },
     "execution_count": 112,
     "metadata": {},
     "output_type": "execute_result"
    }
   ],
   "source": [
    "emp_title_n.head()"
   ]
  },
  {
   "cell_type": "code",
   "execution_count": 113,
   "id": "8ad910c4",
   "metadata": {},
   "outputs": [],
   "source": [
    "current_salaries = current_salaries.merge(emp_title_n, how='outer', on='emp_no')"
   ]
  },
  {
   "cell_type": "code",
   "execution_count": 114,
   "id": "6ce487d6",
   "metadata": {},
   "outputs": [
    {
     "data": {
      "text/html": [
       "<div>\n",
       "<style scoped>\n",
       "    .dataframe tbody tr th:only-of-type {\n",
       "        vertical-align: middle;\n",
       "    }\n",
       "\n",
       "    .dataframe tbody tr th {\n",
       "        vertical-align: top;\n",
       "    }\n",
       "\n",
       "    .dataframe thead th {\n",
       "        text-align: right;\n",
       "    }\n",
       "</style>\n",
       "<table border=\"1\" class=\"dataframe\">\n",
       "  <thead>\n",
       "    <tr style=\"text-align: right;\">\n",
       "      <th></th>\n",
       "      <th>emp_no</th>\n",
       "      <th>salary</th>\n",
       "      <th>from_date</th>\n",
       "      <th>to_date</th>\n",
       "      <th>hiredate_int</th>\n",
       "      <th>title_n</th>\n",
       "    </tr>\n",
       "  </thead>\n",
       "  <tbody>\n",
       "    <tr>\n",
       "      <th>0</th>\n",
       "      <td>10001</td>\n",
       "      <td>88958.0</td>\n",
       "      <td>2002-06-22</td>\n",
       "      <td>9999-01-01</td>\n",
       "      <td>13021.0</td>\n",
       "      <td>1</td>\n",
       "    </tr>\n",
       "    <tr>\n",
       "      <th>1</th>\n",
       "      <td>10002</td>\n",
       "      <td>72527.0</td>\n",
       "      <td>2001-08-02</td>\n",
       "      <td>9999-01-01</td>\n",
       "      <td>13238.0</td>\n",
       "      <td>1</td>\n",
       "    </tr>\n",
       "    <tr>\n",
       "      <th>2</th>\n",
       "      <td>10003</td>\n",
       "      <td>43311.0</td>\n",
       "      <td>2001-12-01</td>\n",
       "      <td>9999-01-01</td>\n",
       "      <td>12958.0</td>\n",
       "      <td>1</td>\n",
       "    </tr>\n",
       "    <tr>\n",
       "      <th>3</th>\n",
       "      <td>10004</td>\n",
       "      <td>74057.0</td>\n",
       "      <td>2001-11-27</td>\n",
       "      <td>9999-01-01</td>\n",
       "      <td>12863.0</td>\n",
       "      <td>2</td>\n",
       "    </tr>\n",
       "    <tr>\n",
       "      <th>4</th>\n",
       "      <td>10005</td>\n",
       "      <td>94692.0</td>\n",
       "      <td>2001-09-09</td>\n",
       "      <td>9999-01-01</td>\n",
       "      <td>11847.0</td>\n",
       "      <td>2</td>\n",
       "    </tr>\n",
       "  </tbody>\n",
       "</table>\n",
       "</div>"
      ],
      "text/plain": [
       "   emp_no   salary   from_date     to_date  hiredate_int  title_n\n",
       "0   10001  88958.0  2002-06-22  9999-01-01       13021.0        1\n",
       "1   10002  72527.0  2001-08-02  9999-01-01       13238.0        1\n",
       "2   10003  43311.0  2001-12-01  9999-01-01       12958.0        1\n",
       "3   10004  74057.0  2001-11-27  9999-01-01       12863.0        2\n",
       "4   10005  94692.0  2001-09-09  9999-01-01       11847.0        2"
      ]
     },
     "execution_count": 114,
     "metadata": {},
     "output_type": "execute_result"
    }
   ],
   "source": [
    "current_salaries.head()"
   ]
  },
  {
   "cell_type": "code",
   "execution_count": 115,
   "id": "672c63a6",
   "metadata": {},
   "outputs": [
    {
     "data": {
      "text/plain": [
       "<AxesSubplot:xlabel='hiredate_int', ylabel='title_n'>"
      ]
     },
     "execution_count": 115,
     "metadata": {},
     "output_type": "execute_result"
    },
    {
     "data": {
      "image/png": "[encoded data removed]",
      "text/plain": [
       "<Figure size 432x288 with 1 Axes>"
      ]
     },
     "metadata": {
      "needs_background": "light"
     },
     "output_type": "display_data"
    }
   ],
   "source": [
    "current_salaries.plot.scatter(y='title_n', x='hiredate_int')"
   ]
  },
  {
   "cell_type": "code",
   "execution_count": 116,
   "id": "a26338ab",
   "metadata": {},
   "outputs": [],
   "source": [
    "# H0: There is no linear correlation between title_n and hiredate_int.\n",
    "# HA: There is a linear correlation between title_n and hiredate_int."
   ]
  },
  {
   "cell_type": "code",
   "execution_count": 120,
   "id": "d62c8547",
   "metadata": {},
   "outputs": [],
   "source": [
    "current_salaries = current_salaries.dropna()"
   ]
  },
  {
   "cell_type": "code",
   "execution_count": 121,
   "id": "57ea5b06",
   "metadata": {},
   "outputs": [
    {
     "data": {
      "text/plain": [
       "(0.2871267889699541, 0.0)"
      ]
     },
     "execution_count": 121,
     "metadata": {},
     "output_type": "execute_result"
    }
   ],
   "source": [
    "r, p = stats.pearsonr(current_salaries.title_n, current_salaries.hiredate_int)\n",
    "r, p"
   ]
  },
  {
   "cell_type": "code",
   "execution_count": 130,
   "id": "f3a23ff4",
   "metadata": {},
   "outputs": [],
   "source": [
    "# Based on the r value there is a linear relationship between title_n and hiredate_int, which would\n",
    "# allow us to reject the null hypothesis, but it is a (very) weak correlation. "
   ]
  },
  {
   "cell_type": "code",
   "execution_count": 123,
   "id": "49f9744e",
   "metadata": {},
   "outputs": [],
   "source": [
    "# 3. Use the sleepstudy data. Is there a relationship between days and reaction time?"
   ]
  },
  {
   "cell_type": "code",
   "execution_count": 124,
   "id": "74e86951",
   "metadata": {},
   "outputs": [],
   "source": [
    "from pydataset import data\n",
    "sleepstudy = data('sleepstudy') "
   ]
  },
  {
   "cell_type": "code",
   "execution_count": 125,
   "id": "70eba8dc",
   "metadata": {},
   "outputs": [
    {
     "data": {
      "text/html": [
       "<div>\n",
       "<style scoped>\n",
       "    .dataframe tbody tr th:only-of-type {\n",
       "        vertical-align: middle;\n",
       "    }\n",
       "\n",
       "    .dataframe tbody tr th {\n",
       "        vertical-align: top;\n",
       "    }\n",
       "\n",
       "    .dataframe thead th {\n",
       "        text-align: right;\n",
       "    }\n",
       "</style>\n",
       "<table border=\"1\" class=\"dataframe\">\n",
       "  <thead>\n",
       "    <tr style=\"text-align: right;\">\n",
       "      <th></th>\n",
       "      <th>Reaction</th>\n",
       "      <th>Days</th>\n",
       "      <th>Subject</th>\n",
       "    </tr>\n",
       "  </thead>\n",
       "  <tbody>\n",
       "    <tr>\n",
       "      <th>1</th>\n",
       "      <td>249.5600</td>\n",
       "      <td>0</td>\n",
       "      <td>308</td>\n",
       "    </tr>\n",
       "    <tr>\n",
       "      <th>2</th>\n",
       "      <td>258.7047</td>\n",
       "      <td>1</td>\n",
       "      <td>308</td>\n",
       "    </tr>\n",
       "    <tr>\n",
       "      <th>3</th>\n",
       "      <td>250.8006</td>\n",
       "      <td>2</td>\n",
       "      <td>308</td>\n",
       "    </tr>\n",
       "    <tr>\n",
       "      <th>4</th>\n",
       "      <td>321.4398</td>\n",
       "      <td>3</td>\n",
       "      <td>308</td>\n",
       "    </tr>\n",
       "    <tr>\n",
       "      <th>5</th>\n",
       "      <td>356.8519</td>\n",
       "      <td>4</td>\n",
       "      <td>308</td>\n",
       "    </tr>\n",
       "  </tbody>\n",
       "</table>\n",
       "</div>"
      ],
      "text/plain": [
       "   Reaction  Days  Subject\n",
       "1  249.5600     0      308\n",
       "2  258.7047     1      308\n",
       "3  250.8006     2      308\n",
       "4  321.4398     3      308\n",
       "5  356.8519     4      308"
      ]
     },
     "execution_count": 125,
     "metadata": {},
     "output_type": "execute_result"
    }
   ],
   "source": [
    "sleepstudy.head()"
   ]
  },
  {
   "cell_type": "code",
   "execution_count": 126,
   "id": "653be8ff",
   "metadata": {},
   "outputs": [
    {
     "data": {
      "text/plain": [
       "<AxesSubplot:xlabel='Days', ylabel='Reaction'>"
      ]
     },
     "execution_count": 126,
     "metadata": {},
     "output_type": "execute_result"
    },
    {
     "data": {
      "image/png": "[encoded data removed]",
      "text/plain": [
       "<Figure size 432x288 with 1 Axes>"
      ]
     },
     "metadata": {
      "needs_background": "light"
     },
     "output_type": "display_data"
    }
   ],
   "source": [
    "sleepstudy.plot.scatter(y='Reaction', x='Days')"
   ]
  },
  {
   "cell_type": "code",
   "execution_count": 127,
   "id": "962c6fd0",
   "metadata": {},
   "outputs": [],
   "source": [
    "# H0: There is no linear correlation between days and reaction time.\n",
    "# HA: There is a linear correlation between days and reaction time."
   ]
  },
  {
   "cell_type": "code",
   "execution_count": 128,
   "id": "908476e8",
   "metadata": {},
   "outputs": [
    {
     "data": {
      "text/plain": [
       "(0.5352302262650253, 9.894096322214812e-15)"
      ]
     },
     "execution_count": 128,
     "metadata": {},
     "output_type": "execute_result"
    }
   ],
   "source": [
    "r, p = stats.pearsonr(sleepstudy.Reaction, sleepstudy.Days)\n",
    "r, p"
   ]
  },
  {
   "cell_type": "code",
   "execution_count": 129,
   "id": "f9cf569a",
   "metadata": {},
   "outputs": [],
   "source": [
    "# Based on the r value there is a linear relationship between days and reaction time, and as a result\n",
    "# we can reject the null hypothesis, but the relationship is a weak one."
   ]
  },
  {
   "cell_type": "code",
   "execution_count": null,
   "id": "65e71e33",
   "metadata": {},
   "outputs": [],
   "source": []
  }
 ],
 "metadata": {
  "kernelspec": {
   "display_name": "Python 3.9.7 64-bit ('base': conda)",
   "language": "python",
   "name": "python397jvsc74a57bd038cca0c38332a56087b24af0bc80247f4fced29cb4f7f437d91dc159adec9c4e"
  },
  "language_info": {
   "codemirror_mode": {
    "name": "ipython",
    "version": 3
   },
   "file_extension": ".py",
   "mimetype": "text/x-python",
   "name": "python",
   "nbconvert_exporter": "python",
   "pygments_lexer": "ipython3",
   "version": "3.9.7"
  }
 },
 "nbformat": 4,
 "nbformat_minor": 5
}
