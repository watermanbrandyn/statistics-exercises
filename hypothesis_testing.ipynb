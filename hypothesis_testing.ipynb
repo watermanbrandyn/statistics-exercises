{
 "cells": [
  {
   "cell_type": "markdown",
   "id": "229456f3",
   "metadata": {},
   "source": [
    "Overview Exercises:\n",
    "\"Has the network latency gone up since we switched internet service providers?\"\n",
    "H0: There is not an increase in network latency between our new ISP and our old ISP. \n",
    "H1: There is an increase in network latency for our new ISP compared to our old ISP.\n",
    "True pos: There is a difference in network latency and our new ISP has more latency.\n",
    "True neg: There is no difference in network latency and our new ISP and old ISP have similar results.\n",
    "Type I error: We declare that there is a difference in network latency since using a new ISP but in actuality there is not. Maybe this is a temporary issue or our p-value was not properly assessed. \n",
    "Type II error: We declare there is not an increaes in network latency but there actually is. Perhaps this is due to inaccurate or incomplete capture of data, that doesn't span enough time or conditions to test true network latency.\n",
    "\n",
    "\"Is the website redesign any good?\"\n",
    "H0: There is not a change in traffic to our website since the redesign.\n",
    "H1: There is a change in traffic to our website since the redesign.\n",
    "True pos: There is an increase in traffic to the website since the redesign.\n",
    "True neg: There is not an increase in traffic to the website since the redesign.\n",
    "Type I error: We declare that there is a difference in traffic since the redesign, but this is not true. Perhaps we did not account for a long enough period of time or the increase in traffic was a result of a different factor/campaign.\n",
    "Type II error: We declare there is not an increase in traffic when there was, perhaps we did not account for an entire type of traffice, such as mobile traffic. \n",
    "\n",
    "\"Is our television ad driving more sales?\"\n",
    "H0: There is no difference in sales from before and after our TV ad.\n",
    "H1: There is a difference in sales from before and after our TV ad.\n",
    "True pos: There is a difference in sales from before and after our TV ad.\n",
    "True neg: There is no difference in sales from before and after our TV ad.\n",
    "Type I error: We declare that there is a difference in sales from our TV ad, but we did not properly attribute what the true factor was. Perhaps day of week or another factor was at play.\n",
    "Type II error: We declare that there is not a difference in sales from our TV ad, but there was. Perhaps we did not properly assess our p-value or have enough detailed data to give us the accurate picture.\n"
   ]
  }
 ],
 "metadata": {
  "kernelspec": {
   "display_name": "Python 3.9.7 64-bit ('base': conda)",
   "language": "python",
   "name": "python397jvsc74a57bd038cca0c38332a56087b24af0bc80247f4fced29cb4f7f437d91dc159adec9c4e"
  },
  "language_info": {
   "codemirror_mode": {
    "name": "ipython",
    "version": 3
   },
   "file_extension": ".py",
   "mimetype": "text/x-python",
   "name": "python",
   "nbconvert_exporter": "python",
   "pygments_lexer": "ipython3",
   "version": "3.9.7"
  }
 },
 "nbformat": 4,
 "nbformat_minor": 5
}
